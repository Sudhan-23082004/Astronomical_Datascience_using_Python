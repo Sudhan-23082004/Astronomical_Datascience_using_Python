{
  "nbformat": 4,
  "nbformat_minor": 0,
  "metadata": {
    "colab": {
      "provenance": []
    },
    "kernelspec": {
      "name": "python3",
      "display_name": "Python 3"
    },
    "language_info": {
      "name": "python"
    }
  },
  "cells": [
    {
      "cell_type": "markdown",
      "source": [
        "# <center> Assignment-1 (ADS)\n",
        "Total Points: 25"
      ],
      "metadata": {
        "id": "8FErbUzSO7IR"
      }
    },
    {
      "cell_type": "code",
      "execution_count": null,
      "metadata": {
        "id": "KTec_ySqN7RZ"
      },
      "outputs": [],
      "source": [
        "# Enter Your Name and Email ID\n",
        "name = \" \"\n",
        "email_id = \" \""
      ]
    },
    {
      "cell_type": "markdown",
      "source": [
        "**Q1) [1 Point]**\n",
        "\n",
        "Which of the following statements is used to terminate the statement ?\n",
        "\n",
        "**A)** Next     \n",
        "**B)** Switch    \n",
        "**C)** Break   \n",
        "**D)** With      "
      ],
      "metadata": {
        "id": "fnskN954PG4g"
      }
    },
    {
      "cell_type": "code",
      "source": [
        "# Print the correct option as a string in this code\n",
        "print()"
      ],
      "metadata": {
        "id": "KA6dzTaoO_iR"
      },
      "execution_count": null,
      "outputs": []
    },
    {
      "cell_type": "markdown",
      "source": [
        "**Q2) [1 Point]**\n",
        "\n",
        "Which of the following variable is of `float` type?\n",
        "\n",
        "**A)** `a = '3.0'`       \n",
        "**B)** `b = 3`       \n",
        "**C)** `c = 3/2`         \n",
        "**D)** `d = print(3/2)`     \n",
        "\n",
        "**Note:-**\n",
        "* There can be MORE THAN ONE correct option!"
      ],
      "metadata": {
        "id": "eO3acRF5PZjO"
      }
    },
    {
      "cell_type": "code",
      "source": [
        "# Print all the correct options here as a string\n",
        "print()"
      ],
      "metadata": {
        "id": "td5QLfDFPyIG"
      },
      "execution_count": null,
      "outputs": []
    },
    {
      "cell_type": "markdown",
      "source": [
        "**Q3) [1 Point]**\n",
        "\n",
        "Consider the if-elseif-else statement, how many elseif are possible between if and else statements?\n",
        "\n",
        "**A)** 1       \n",
        "**B)** 0             \n",
        "**C)** Multiple            \n",
        "**D)** None of the above              "
      ],
      "metadata": {
        "id": "sRgmC9bAQIhq"
      }
    },
    {
      "cell_type": "code",
      "source": [
        "# Print the correct option as a string in this code\n",
        "print()"
      ],
      "metadata": {
        "id": "xUWx1UeyQQ-c"
      },
      "execution_count": null,
      "outputs": []
    },
    {
      "cell_type": "markdown",
      "source": [
        "**Q4) [4 Points]**\n",
        "\n",
        "Write a function that takes any number N as input and returns the square of that number."
      ],
      "metadata": {
        "id": "bSkoBm58QbdP"
      }
    },
    {
      "cell_type": "code",
      "source": [
        "# Complete this given code\n",
        "\n",
        "def square(num):\n",
        "  \"\"\"\n",
        "  Add a description for this function here\n",
        "  \"\"\"\n",
        "  # Complete the function\n",
        "  pass\n",
        "\n",
        "# Take the user input correctly to square the number\n",
        "N =\n",
        "\n",
        "# Print using f-string a message that displays for example:- \"Square of 2 is:- 4\"\n",
        "print(f'')"
      ],
      "metadata": {
        "id": "-Uvd5anxQbD1"
      },
      "execution_count": null,
      "outputs": []
    },
    {
      "cell_type": "markdown",
      "source": [
        "**Q5) [5 Points]**\n",
        "\n",
        "Write a program which will find all such numbers which are divisible by 7 but are not a multiple of 5, between 2000 and 3200 (both included). The numbers obtained should be printed in a comma-separated sequence on a single line without `[ ]` or `,` at the end."
      ],
      "metadata": {
        "id": "vsIazwRaRotO"
      }
    },
    {
      "cell_type": "code",
      "source": [
        "# Write your solution here\n",
        "\n",
        "\n",
        "\n"
      ],
      "metadata": {
        "id": "K9JX4231RsP3"
      },
      "execution_count": null,
      "outputs": []
    },
    {
      "cell_type": "markdown",
      "source": [
        "**Q6) [2 Points]**\n",
        "\n",
        "Write a Python program to accept the user's first and last name and then get them printed in the reverse order with a space between first name and last name. For example:-\n",
        "```\n",
        "User Inputs:-\n",
        "first_name = rohan\n",
        "last_name = shah\n",
        "\n",
        "Expected Output:-\n",
        "Shah Rohan\n",
        "```\n",
        "\n",
        "\n"
      ],
      "metadata": {
        "id": "CnE4TZJVR5dS"
      }
    },
    {
      "cell_type": "code",
      "source": [
        "# Take user inputs with an appropriate input message for each inputs\n",
        "first_name =\n",
        "last_name =\n",
        "\n",
        "# Use f string to print the final answer\n",
        "print()"
      ],
      "metadata": {
        "id": "nfKvDXMzSSIu"
      },
      "execution_count": null,
      "outputs": []
    },
    {
      "cell_type": "markdown",
      "source": [
        "**Q7) [2 Points]**\n",
        "\n",
        "Given this given nested list, use indexing to grab and print the word \"ADS-27112023\"."
      ],
      "metadata": {
        "id": "Vjg40_0DSmgk"
      }
    },
    {
      "cell_type": "code",
      "source": [
        "# Given Nested List with the target element\n",
        "lst = [1,2,[3,4],[5,[100,200,['ADS-27112023']],23,11],1,7]\n",
        "\n",
        "# print the word 'ADS-27112023' using list indexing without [ ] over the word\n",
        "print()"
      ],
      "metadata": {
        "id": "8OlMoQfwS78o"
      },
      "execution_count": null,
      "outputs": []
    },
    {
      "cell_type": "markdown",
      "source": [
        "**Q8) [8 Points]**\n",
        "\n",
        "Create a function named as `detect_variable_star`\n",
        "* That accepts a dictionary of brightness of a star observed over a period of 12 months.\n",
        "* Returns the name of months with maximum change in brightness observed if the star is variable.\n",
        "* Returns -1 if the star is not variable.\n",
        "\n",
        "**Note:-**        \n",
        "Assume that a star is variable if there is a change in brightness greater than 20% between any two consecutive observations.      \n",
        "Use NumPy Methods and Condition statements to solve this question."
      ],
      "metadata": {
        "id": "uAsHBi0BYLfI"
      }
    },
    {
      "cell_type": "code",
      "source": [
        "# Complete this code\n",
        "def detect_variable_star(light_curve_data):\n",
        "\n",
        "  \"\"\"\n",
        "  Describe your function here\n",
        "  \"\"\"\n",
        "\n",
        "  # Convert the values of dictionary to list and then to numpy array\n",
        "  array_data =\n",
        "\n",
        "  # Calculate the change in brightness using numpy methods (Hint:- np.diff())\n",
        "  brightness_change =\n",
        "\n",
        "  # If any of the change in brighntess is more than 20%\n",
        "  if np.any(brightness_change > 0.2):\n",
        "\n",
        "      # Get the index of the max value in the brightness_change\n",
        "      max_change_index =\n",
        "\n",
        "      # Get the Start and End Month based on that index\n",
        "      start_month =\n",
        "      end_month =\n",
        "\n",
        "      # Get the Maximum value out of the brightness_change\n",
        "      max_change_value =\n",
        "\n",
        "      # Print this statement (Don't change this)\n",
        "      print(f'The maximum change in brightness of {max_change_value:.2%} was observed in {start_month}-{end_month}.')\n",
        "\n",
        "  else:\n",
        "\n",
        "    # Complete the remaining part as per the need of the question\n",
        "    pass"
      ],
      "metadata": {
        "id": "Uf9d4MmlYMI0"
      },
      "execution_count": null,
      "outputs": []
    },
    {
      "cell_type": "code",
      "source": [
        "''' DON'T CHANGE THIS CODE! JUST RUN IT AS IT IS. '''\n",
        "\n",
        "# Here is the given data\n",
        "light_curve_data = {'January': 0.8,\n",
        "                    'February': 0.85,\n",
        "                    'March': 0.9,\n",
        "                    'April': 1.1,\n",
        "                    'May': 1.5,\n",
        "                    'June': 2.0,\n",
        "                    'July': 1.8,\n",
        "                    'August': 1.4,\n",
        "                    'September': 1.2,\n",
        "                    'October': 1.0,\n",
        "                    'Novemeber': 0.9,\n",
        "                    'December': 1.1}\n",
        "\n",
        "# Call your function\n",
        "detect_variable_star(light_curve_data)"
      ],
      "metadata": {
        "id": "uhz4krRqeQYC"
      },
      "execution_count": null,
      "outputs": []
    },
    {
      "cell_type": "markdown",
      "source": [
        "**Q9) [1 Point]**\n",
        "\n",
        "If you ever got a chance to work on some Astronomy Mission, what would it be and why?"
      ],
      "metadata": {
        "id": "F966-PlwqZBS"
      }
    },
    {
      "cell_type": "code",
      "source": [
        "# Print your answer here\n",
        "print(\"\"\" \"\"\")"
      ],
      "metadata": {
        "id": "1V3xwtueqqgK"
      },
      "execution_count": null,
      "outputs": []
    },
    {
      "cell_type": "markdown",
      "source": [
        "## END"
      ],
      "metadata": {
        "id": "YBVDnxpTquNY"
      }
    },
    {
      "cell_type": "markdown",
      "source": [
        "### Download the file as .ipynb and submit it via Google Form on Slack"
      ],
      "metadata": {
        "id": "cTvVtCLnq0Aq"
      }
    }
  ]
}