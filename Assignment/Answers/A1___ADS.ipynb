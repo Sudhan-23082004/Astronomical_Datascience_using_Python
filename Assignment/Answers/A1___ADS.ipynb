{
  "cells": [
    {
      "cell_type": "markdown",
      "metadata": {
        "id": "8FErbUzSO7IR"
      },
      "source": [
        "# <center> Assignment-1 (ADS)\n",
        "Total Points: 25"
      ]
    },
    {
      "cell_type": "code",
      "execution_count": 4,
      "metadata": {
        "id": "KTec_ySqN7RZ"
      },
      "outputs": [],
      "source": [
        "# Enter Your Name and Email ID\n",
        "name = \"Sudhan Rajan\"\n",
        "email_id = \"rajansudhan0@gmail.com\""
      ]
    },
    {
      "cell_type": "markdown",
      "metadata": {
        "id": "fnskN954PG4g"
      },
      "source": [
        "**Q1) [1 Point]**\n",
        "\n",
        "Which of the following statements is used to terminate the statement ?\n",
        "\n",
        "**A)** Next     \n",
        "**B)** Switch    \n",
        "**C)** Break   \n",
        "**D)** With      "
      ]
    },
    {
      "cell_type": "code",
      "execution_count": 5,
      "metadata": {
        "colab": {
          "base_uri": "https://localhost:8080/"
        },
        "id": "KA6dzTaoO_iR",
        "outputId": "247ca8d5-a8b5-4447-ace1-748384c16609"
      },
      "outputs": [
        {
          "name": "stdout",
          "output_type": "stream",
          "text": [
            "C) Break\n"
          ]
        }
      ],
      "source": [
        "# Print the correct option as a string in this code\n",
        "print(\"C) Break\")"
      ]
    },
    {
      "cell_type": "markdown",
      "metadata": {
        "id": "eO3acRF5PZjO"
      },
      "source": [
        "**Q2) [1 Point]**\n",
        "\n",
        "Which of the following variable is of `float` type?\n",
        "\n",
        "**A)** `a = '3.0'`       \n",
        "**B)** `b = 3`       \n",
        "**C)** `c = 3/2`         \n",
        "**D)** `d = print(3/2)`     \n",
        "\n",
        "**Note:-**\n",
        "* There can be MORE THAN ONE correct option!"
      ]
    },
    {
      "cell_type": "code",
      "execution_count": 21,
      "metadata": {
        "colab": {
          "base_uri": "https://localhost:8080/"
        },
        "id": "td5QLfDFPyIG",
        "outputId": "43c4800c-3705-4f55-92b2-f5dff9945a03"
      },
      "outputs": [
        {
          "name": "stdout",
          "output_type": "stream",
          "text": [
            "C) c = 3/2\n"
          ]
        }
      ],
      "source": [
        "# Print all the correct options here as a string\n",
        "print(\"C) c = 3/2\")"
      ]
    },
    {
      "cell_type": "markdown",
      "metadata": {
        "id": "sRgmC9bAQIhq"
      },
      "source": [
        "**Q3) [1 Point]**\n",
        "\n",
        "Consider the if-elseif-else statement, how many elseif are possible between if and else statements?\n",
        "\n",
        "**A)** 1       \n",
        "**B)** 0             \n",
        "**C)** Multiple            \n",
        "**D)** None of the above              "
      ]
    },
    {
      "cell_type": "code",
      "execution_count": 22,
      "metadata": {
        "colab": {
          "base_uri": "https://localhost:8080/"
        },
        "id": "xUWx1UeyQQ-c",
        "outputId": "a8ae76fd-8f80-4a35-ac44-9f7ca133f35d"
      },
      "outputs": [
        {
          "name": "stdout",
          "output_type": "stream",
          "text": [
            "C) Multiple\n"
          ]
        }
      ],
      "source": [
        "# Print the correct option as a string in this code\n",
        "print(\"C) Multiple\")"
      ]
    },
    {
      "cell_type": "markdown",
      "metadata": {
        "id": "bSkoBm58QbdP"
      },
      "source": [
        "**Q4) [4 Points]**\n",
        "\n",
        "Write a function that takes any number N as input and returns the square of that number."
      ]
    },
    {
      "cell_type": "code",
      "execution_count": 24,
      "metadata": {
        "colab": {
          "base_uri": "https://localhost:8080/"
        },
        "id": "-Uvd5anxQbD1",
        "outputId": "5e763392-962c-446a-c7be-3170090e3f58"
      },
      "outputs": [
        {
          "name": "stdout",
          "output_type": "stream",
          "text": [
            "Enter the number to be squared: 5\n",
            "Square of 5 is:- 25\n"
          ]
        }
      ],
      "source": [
        "# Complete this given code\n",
        "\n",
        "def square(num):\n",
        "\n",
        "  return num**2\n",
        "\n",
        "  # Complete the function\n",
        "  pass\n",
        "\n",
        "# Take the user input correctly to square the number\n",
        "N =int(input(\"Enter the number to be squared: \"))\n",
        "\n",
        "# Print using f-string a message that displays for example:- \"Square of 2 is:- 4\"\n",
        "print(f'Square of {N} is:- {square(N)}')"
      ]
    },
    {
      "cell_type": "markdown",
      "metadata": {
        "id": "vsIazwRaRotO"
      },
      "source": [
        "**Q5) [5 Points]**\n",
        "\n",
        "Write a program which will find all such numbers which are divisible by 7 but are not a multiple of 5, between 2000 and 3200 (both included). The numbers obtained should be printed in a comma-separated sequence on a single line without `[ ]` or `,` at the end."
      ]
    },
    {
      "cell_type": "code",
      "execution_count": 25,
      "metadata": {
        "colab": {
          "base_uri": "https://localhost:8080/"
        },
        "id": "K9JX4231RsP3",
        "outputId": "31fe66d8-5279-4d16-ce71-9b38fdc7946e"
      },
      "outputs": [
        {
          "name": "stdout",
          "output_type": "stream",
          "text": [
            "2002,2009,2016,2023,2037,2044,2051,2058,2072,2079,2086,2093,2107,2114,2121,2128,2142,2149,2156,2163,2177,2184,2191,2198,2212,2219,2226,2233,2247,2254,2261,2268,2282,2289,2296,2303,2317,2324,2331,2338,2352,2359,2366,2373,2387,2394,2401,2408,2422,2429,2436,2443,2457,2464,2471,2478,2492,2499,2506,2513,2527,2534,2541,2548,2562,2569,2576,2583,2597,2604,2611,2618,2632,2639,2646,2653,2667,2674,2681,2688,2702,2709,2716,2723,2737,2744,2751,2758,2772,2779,2786,2793,2807,2814,2821,2828,2842,2849,2856,2863,2877,2884,2891,2898,2912,2919,2926,2933,2947,2954,2961,2968,2982,2989,2996,3003,3017,3024,3031,3038,3052,3059,3066,3073,3087,3094,3101,3108,3122,3129,3136,3143,3157,3164,3171,3178,3192,3199\n"
          ]
        }
      ],
      "source": [
        "# Write your solution here\n",
        "# Initialize an empty list to store the numbers\n",
        "result = []\n",
        "\n",
        "# Iterate through numbers between 2000 and 3200 (both included)\n",
        "for num in range(2000, 3201):\n",
        "    # Check if the number is divisible by 7 and not a multiple of 5\n",
        "    if num % 7 == 0 and num % 5 != 0:\n",
        "        result.append(str(num))  # Convert the number to a string and add it to the list\n",
        "\n",
        "# Print the result as a comma-separated sequence on a single line\n",
        "print(','.join(result))"
      ]
    },
    {
      "cell_type": "markdown",
      "metadata": {
        "id": "CnE4TZJVR5dS"
      },
      "source": [
        "**Q6) [2 Points]**\n",
        "\n",
        "Write a Python program to accept the user's first and last name and then get them printed in the reverse order with a space between first name and last name. For example:-\n",
        "```\n",
        "User Inputs:-\n",
        "first_name = rohan\n",
        "last_name = shah\n",
        "\n",
        "Expected Output:-\n",
        "Shah Rohan\n",
        "```\n",
        "\n",
        "\n"
      ]
    },
    {
      "cell_type": "code",
      "execution_count": 26,
      "metadata": {
        "colab": {
          "base_uri": "https://localhost:8080/"
        },
        "id": "nfKvDXMzSSIu",
        "outputId": "13356344-fe38-4678-ec47-d498ef7f55db"
      },
      "outputs": [
        {
          "name": "stdout",
          "output_type": "stream",
          "text": [
            "Enter your first name: Sudhan\n",
            "Enter your last name: Rajan\n",
            "Reversed Name: Rajan Sudhan\n"
          ]
        }
      ],
      "source": [
        "# Take user inputs with an appropriate input message for each input\n",
        "first_name = input(\"Enter your first name: \")\n",
        "last_name = input(\"Enter your last name: \")\n",
        "\n",
        "# Use f-string to print the final answer\n",
        "print(f'Reversed Name: {last_name} {first_name}')\n"
      ]
    },
    {
      "cell_type": "markdown",
      "metadata": {
        "id": "Vjg40_0DSmgk"
      },
      "source": [
        "**Q7) [2 Points]**\n",
        "\n",
        "Given this given nested list, use indexing to grab and print the word \"ADS-27112023\"."
      ]
    },
    {
      "cell_type": "code",
      "execution_count": 27,
      "metadata": {
        "colab": {
          "base_uri": "https://localhost:8080/"
        },
        "id": "8OlMoQfwS78o",
        "outputId": "5983c949-9cc4-4d07-80a4-9fc9f1ccf64f"
      },
      "outputs": [
        {
          "name": "stdout",
          "output_type": "stream",
          "text": [
            "ADS-27112023\n"
          ]
        }
      ],
      "source": [
        "# Given Nested List with the target element\n",
        "lst = [1, 2, [3, 4], [5, [100, 200, ['ADS-27112023']], 23, 11], 1, 7]\n",
        "\n",
        "# Print the word 'ADS-27112023' using list indexing without [ ] over the word\n",
        "print(lst[3][1][2][0])\n"
      ]
    },
    {
      "cell_type": "markdown",
      "metadata": {
        "id": "uAsHBi0BYLfI"
      },
      "source": [
        "**Q8) [8 Points]**\n",
        "\n",
        "Create a function named as `detect_variable_star`\n",
        "* That accepts a dictionary of brightness of a star observed over a period of 12 months.\n",
        "* Returns the name of months with maximum change in brightness observed if the star is variable.\n",
        "* Returns -1 if the star is not variable.\n",
        "\n",
        "**Note:-**        \n",
        "Assume that a star is variable if there is a change in brightness greater than 20% between any two consecutive observations.      \n",
        "Use NumPy Methods and Condition statements to solve this question."
      ]
    },
    {
      "cell_type": "code",
      "execution_count": 28,
      "metadata": {
        "id": "Uf9d4MmlYMI0"
      },
      "outputs": [],
      "source": [
        "import numpy as np\n",
        "\n",
        "def detect_variable_star(light_curve_data):\n",
        "\n",
        "    array_data = np.array(list(light_curve_data.values()))\n",
        "\n",
        "    # Calculate the change in brightness using NumPy methods (Hint: np.diff())\n",
        "    brightness_change = np.diff(array_data)\n",
        "\n",
        "    # If any of the changes in brightness is more than 20%\n",
        "    if np.any(brightness_change > 0.2):\n",
        "        # Get the index of the max value in the brightness_change\n",
        "        max_change_index = np.argmax(brightness_change)\n",
        "\n",
        "        # Get the Start and End Month based on that index\n",
        "        start_month = list(light_curve_data.keys())[max_change_index]\n",
        "        end_month = list(light_curve_data.keys())[max_change_index + 1]\n",
        "\n",
        "        # Get the Maximum value out of the brightness_change\n",
        "        max_change_value = np.max(brightness_change)\n",
        "\n",
        "        # Print the statement\n",
        "        print(f'The maximum change in brightness of {max_change_value:.2%} was observed in {start_month}-{end_month}.')\n",
        "\n",
        "    else:\n",
        "        # If no change is greater than 20%, print that the star is not variable\n",
        "        print(\"The star is not variable.\")"
      ]
    },
    {
      "cell_type": "code",
      "execution_count": 29,
      "metadata": {
        "colab": {
          "base_uri": "https://localhost:8080/"
        },
        "id": "uhz4krRqeQYC",
        "outputId": "742e58e1-9174-459d-e39c-03eeaa716d1f"
      },
      "outputs": [
        {
          "name": "stdout",
          "output_type": "stream",
          "text": [
            "The maximum change in brightness of 50.00% was observed in May-June.\n"
          ]
        }
      ],
      "source": [
        "''' DON'T CHANGE THIS CODE! JUST RUN IT AS IT IS. '''\n",
        "\n",
        "# Here is the given data\n",
        "light_curve_data = {'January': 0.8,\n",
        "                    'February': 0.85,\n",
        "                    'March': 0.9,\n",
        "                    'April': 1.1,\n",
        "                    'May': 1.5,\n",
        "                    'June': 2.0,\n",
        "                    'July': 1.8,\n",
        "                    'August': 1.4,\n",
        "                    'September': 1.2,\n",
        "                    'October': 1.0,\n",
        "                    'Novemeber': 0.9,\n",
        "                    'December': 1.1}\n",
        "\n",
        "# Call your function\n",
        "detect_variable_star(light_curve_data)"
      ]
    },
    {
      "cell_type": "markdown",
      "metadata": {
        "id": "F966-PlwqZBS"
      },
      "source": [
        "**Q9) [1 Point]**\n",
        "\n",
        "If you ever got a chance to work on some Astronomy Mission, what would it be and why?"
      ]
    },
    {
      "cell_type": "code",
      "execution_count": 30,
      "metadata": {
        "colab": {
          "base_uri": "https://localhost:8080/"
        },
        "id": "1V3xwtueqqgK",
        "outputId": "5aa0e799-bc52-42ea-90b5-cec9276f8795"
      },
      "outputs": [
        {
          "name": "stdout",
          "output_type": "stream",
          "text": [
            "If I were to work on an astronomy mission, I would be particularly interested in contributing to a\n",
            "mission focused on the exploration of exoplanets. The discovery and characterization of exoplanets have \n",
            "been fascinating areas of research in recent years. Specifically, a mission that aims to study the atmospheres \n",
            "of exoplanets to identify potential signs of habitability or even the presence of life would be intriguing. \n",
            "Such a mission could provide valuable insights into the diversity of planetary systems beyond our own \n",
            "and contribute to our understanding of the conditions necessary for life to exist elsewhere in the universe.\n",
            "The possibility of finding habitable environments or signs of extraterrestrial life would not only be scientifically \n",
            "groundbreaking but also captivate public interest, inspiring curiosity and a sense of wonder about the \n",
            "vastness of the cosmos.\n"
          ]
        }
      ],
      "source": [
        "# Print your answer here\n",
        "print(\"\"\"If I were to work on an astronomy mission, I would be particularly interested in contributing to a\n",
        "mission focused on the exploration of exoplanets. The discovery and characterization of exoplanets have\n",
        "been fascinating areas of research in recent years. Specifically, a mission that aims to study the atmospheres\n",
        "of exoplanets to identify potential signs of habitability or even the presence of life would be intriguing.\n",
        "Such a mission could provide valuable insights into the diversity of planetary systems beyond our own\n",
        "and contribute to our understanding of the conditions necessary for life to exist elsewhere in the universe.\n",
        "The possibility of finding habitable environments or signs of extraterrestrial life would not only be scientifically\n",
        "groundbreaking but also captivate public interest, inspiring curiosity and a sense of wonder about the\n",
        "vastness of the cosmos.\"\"\")\n"
      ]
    },
    {
      "cell_type": "markdown",
      "metadata": {
        "id": "YBVDnxpTquNY"
      },
      "source": [
        "## END"
      ]
    },
    {
      "cell_type": "markdown",
      "metadata": {
        "id": "cTvVtCLnq0Aq"
      },
      "source": [
        "### Download the file as .ipynb and submit it via Google Form on Slack"
      ]
    }
  ],
  "metadata": {
    "colab": {
      "provenance": []
    },
    "kernelspec": {
      "display_name": "Python 3",
      "name": "python3"
    },
    "language_info": {
      "codemirror_mode": {
        "name": "ipython",
        "version": 3
      },
      "file_extension": ".py",
      "mimetype": "text/x-python",
      "name": "python",
      "nbconvert_exporter": "python",
      "pygments_lexer": "ipython3",
      "version": "3.11.4"
    }
  },
  "nbformat": 4,
  "nbformat_minor": 0
}
