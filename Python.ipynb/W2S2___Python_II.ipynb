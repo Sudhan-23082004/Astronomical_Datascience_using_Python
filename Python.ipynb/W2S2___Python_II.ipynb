{
  "nbformat": 4,
  "nbformat_minor": 0,
  "metadata": {
    "colab": {
      "provenance": []
    },
    "kernelspec": {
      "name": "python3",
      "display_name": "Python 3"
    },
    "language_info": {
      "name": "python"
    }
  },
  "cells": [
    {
      "cell_type": "markdown",
      "source": [
        "# <center> W2S2 | Python II"
      ],
      "metadata": {
        "id": "bKuBeNGORFjA"
      }
    },
    {
      "cell_type": "markdown",
      "source": [
        "* Python Inputs\n",
        "* String Operations\n",
        "* List\n",
        "* Tuple\n",
        "* Convert List to tuple & Vice Versa\n",
        "* Dictionaries\n",
        "* Control Flow"
      ],
      "metadata": {
        "id": "vTApYH7ERKWu"
      }
    },
    {
      "cell_type": "markdown",
      "source": [
        "#### 1. Python Inputs"
      ],
      "metadata": {
        "id": "hejbcYExcZcT"
      }
    },
    {
      "cell_type": "code",
      "execution_count": 2,
      "metadata": {
        "colab": {
          "base_uri": "https://localhost:8080/"
        },
        "id": "u2SrWJKTQ7m2",
        "outputId": "e5e9bf4e-a1bd-427e-a232-f97a1f1f5717"
      },
      "outputs": [
        {
          "name": "stdout",
          "output_type": "stream",
          "text": [
            "Enter your First Name:- Rohan\n"
          ]
        }
      ],
      "source": [
        "name = input('Enter your First Name:- ')"
      ]
    },
    {
      "cell_type": "code",
      "source": [
        "print(type(name))"
      ],
      "metadata": {
        "colab": {
          "base_uri": "https://localhost:8080/"
        },
        "id": "N3MZI33cc9e6",
        "outputId": "a8b0cc66-11fe-4df7-ea5f-58aa6fab0ec3"
      },
      "execution_count": 4,
      "outputs": [
        {
          "output_type": "stream",
          "name": "stdout",
          "text": [
            "<class 'str'>\n"
          ]
        }
      ]
    },
    {
      "cell_type": "code",
      "source": [
        "num = input('Give me your fav number:- ')"
      ],
      "metadata": {
        "colab": {
          "base_uri": "https://localhost:8080/"
        },
        "id": "pogFoeCqdDSA",
        "outputId": "3e7e031e-23b6-4587-9afa-dd8ace9a0497"
      },
      "execution_count": 5,
      "outputs": [
        {
          "name": "stdout",
          "output_type": "stream",
          "text": [
            "Give me your fav number:- 7\n"
          ]
        }
      ]
    },
    {
      "cell_type": "code",
      "source": [
        "print(type(num))"
      ],
      "metadata": {
        "colab": {
          "base_uri": "https://localhost:8080/"
        },
        "id": "JHitjL4BdHW5",
        "outputId": "55a4492b-d1aa-4f05-b75b-3d0f14b26af4"
      },
      "execution_count": 6,
      "outputs": [
        {
          "output_type": "stream",
          "name": "stdout",
          "text": [
            "<class 'str'>\n"
          ]
        }
      ]
    },
    {
      "cell_type": "code",
      "source": [
        "int_num = float(input('Give me your fav number:- '))"
      ],
      "metadata": {
        "colab": {
          "base_uri": "https://localhost:8080/"
        },
        "id": "Fp7diwpNdPnl",
        "outputId": "0ef726cd-61b2-4197-a3cf-1cbfa0469196"
      },
      "execution_count": 10,
      "outputs": [
        {
          "name": "stdout",
          "output_type": "stream",
          "text": [
            "Give me your fav number:- 2.1\n"
          ]
        }
      ]
    },
    {
      "cell_type": "code",
      "source": [
        "type(int_num)"
      ],
      "metadata": {
        "colab": {
          "base_uri": "https://localhost:8080/"
        },
        "id": "zJjRDDnddaBA",
        "outputId": "6a65105a-75d8-4486-acc2-24d533aa97b0"
      },
      "execution_count": 11,
      "outputs": [
        {
          "output_type": "execute_result",
          "data": {
            "text/plain": [
              "float"
            ]
          },
          "metadata": {},
          "execution_count": 11
        }
      ]
    },
    {
      "cell_type": "markdown",
      "source": [
        "### 2. Common Useful String Operations"
      ],
      "metadata": {
        "id": "qcncIEqTduJS"
      }
    },
    {
      "cell_type": "code",
      "source": [
        "# Any time if you want to check the length of a string then use len() command\n",
        "str_ = 'What is the length of this string?'\n",
        "print(len(str_))"
      ],
      "metadata": {
        "colab": {
          "base_uri": "https://localhost:8080/"
        },
        "id": "OayFfqYmdyZb",
        "outputId": "10fe4bb1-6a29-40ab-f7b0-0edb7b0fe6f8"
      },
      "execution_count": 13,
      "outputs": [
        {
          "output_type": "stream",
          "name": "stdout",
          "text": [
            "5\n"
          ]
        }
      ]
    },
    {
      "cell_type": "code",
      "source": [
        "# Use .title() method on string to convert first charachter of the word to upper case\n",
        "str_1 = 'this is a String!'\n",
        "str_2 = str_1.title()\n",
        "print(str_2)"
      ],
      "metadata": {
        "colab": {
          "base_uri": "https://localhost:8080/"
        },
        "id": "PWg3b-b3eOza",
        "outputId": "7988b2fc-2a7e-4230-9693-c0746b494e4d"
      },
      "execution_count": 20,
      "outputs": [
        {
          "output_type": "stream",
          "name": "stdout",
          "text": [
            "This Is A String!\n"
          ]
        }
      ]
    },
    {
      "cell_type": "code",
      "source": [
        "# Use .capitalize() method on string to make only the first characheter of the string to upper case\n",
        "str_1.capitalize()"
      ],
      "metadata": {
        "colab": {
          "base_uri": "https://localhost:8080/",
          "height": 35
        },
        "id": "eh2D-KoZemNR",
        "outputId": "adae027b-5063-4c86-ac03-e3787e8b7062"
      },
      "execution_count": 21,
      "outputs": [
        {
          "output_type": "execute_result",
          "data": {
            "text/plain": [
              "'This is a string!'"
            ],
            "application/vnd.google.colaboratory.intrinsic+json": {
              "type": "string"
            }
          },
          "metadata": {},
          "execution_count": 21
        }
      ]
    },
    {
      "cell_type": "code",
      "source": [
        "# Use .lower() and .upper() to have a string with all lower cases and all upper cases respectively\n",
        "print(str_1.lower())\n",
        "print(str_1.upper())"
      ],
      "metadata": {
        "colab": {
          "base_uri": "https://localhost:8080/"
        },
        "id": "OH_CCPJfe-M8",
        "outputId": "7e29bb7c-0c14-4adf-8a53-1b78b25ab66a"
      },
      "execution_count": 25,
      "outputs": [
        {
          "output_type": "stream",
          "name": "stdout",
          "text": [
            "this is a string!\n",
            "THIS IS A STRING!\n"
          ]
        }
      ]
    },
    {
      "cell_type": "code",
      "source": [
        "# Use .split(charachter to split from) to split the string into different parts and store it as a list\n",
        "str_1.split(\" \")"
      ],
      "metadata": {
        "colab": {
          "base_uri": "https://localhost:8080/"
        },
        "id": "-z2L8fDbfUvy",
        "outputId": "200eab95-732c-4790-b4aa-fdc5db252ea7"
      },
      "execution_count": 27,
      "outputs": [
        {
          "output_type": "execute_result",
          "data": {
            "text/plain": [
              "['this', 'is', 'a', 'String!']"
            ]
          },
          "metadata": {},
          "execution_count": 27
        }
      ]
    },
    {
      "cell_type": "code",
      "source": [
        "# Index String\n",
        "demo_string = 'This is another String!'\n",
        "print(demo_string[8])  # With positive index starting from T at index 0\n",
        "print(demo_string[-15])# With negative index srating from ! at index -1"
      ],
      "metadata": {
        "colab": {
          "base_uri": "https://localhost:8080/"
        },
        "id": "ehg6Ix8yf3A5",
        "outputId": "a04fe58f-37bf-4746-e24a-3f56c593728c"
      },
      "execution_count": 29,
      "outputs": [
        {
          "output_type": "stream",
          "name": "stdout",
          "text": [
            "a\n",
            "a\n"
          ]
        }
      ]
    },
    {
      "cell_type": "code",
      "source": [
        "# Fetch i from This in above string\n",
        "demo_string[2]"
      ],
      "metadata": {
        "colab": {
          "base_uri": "https://localhost:8080/",
          "height": 35
        },
        "id": "zmoWKFD9guK6",
        "outputId": "d02e391f-6acf-4973-bc71-3c32f5e48011"
      },
      "execution_count": 30,
      "outputs": [
        {
          "output_type": "execute_result",
          "data": {
            "text/plain": [
              "'i'"
            ],
            "application/vnd.google.colaboratory.intrinsic+json": {
              "type": "string"
            }
          },
          "metadata": {},
          "execution_count": 30
        }
      ]
    },
    {
      "cell_type": "code",
      "source": [
        "# Slicing a string --> Fetch 'another' from demo_string\n",
        "demo_string[8:15:4] # Slice concept --> str[start_index:end_index+1:skip_step]"
      ],
      "metadata": {
        "colab": {
          "base_uri": "https://localhost:8080/",
          "height": 35
        },
        "id": "xx9zLfbvhBct",
        "outputId": "6bc2d00e-228b-4860-81a8-ab82cd11892d"
      },
      "execution_count": 35,
      "outputs": [
        {
          "output_type": "execute_result",
          "data": {
            "text/plain": [
              "'ah'"
            ],
            "application/vnd.google.colaboratory.intrinsic+json": {
              "type": "string"
            }
          },
          "metadata": {},
          "execution_count": 35
        }
      ]
    },
    {
      "cell_type": "code",
      "source": [
        "# Negative skip_step value will change the format to end_index+1 as start and start_index as end\n",
        "example_string = 'word'\n",
        "example_string[::-3]"
      ],
      "metadata": {
        "colab": {
          "base_uri": "https://localhost:8080/",
          "height": 35
        },
        "id": "2V7g3iLniHca",
        "outputId": "8b0ceb26-f0f3-4326-8473-8ed9f3b1506a"
      },
      "execution_count": 58,
      "outputs": [
        {
          "output_type": "execute_result",
          "data": {
            "text/plain": [
              "'dw'"
            ],
            "application/vnd.google.colaboratory.intrinsic+json": {
              "type": "string"
            }
          },
          "metadata": {},
          "execution_count": 58
        }
      ]
    },
    {
      "cell_type": "markdown",
      "source": [
        "### 3. List"
      ],
      "metadata": {
        "id": "Z36D9bDGkADT"
      }
    },
    {
      "cell_type": "code",
      "source": [
        "fav_planets = ['Earth', 'Saturn', 'Venus']\n",
        "print(fav_planets)"
      ],
      "metadata": {
        "colab": {
          "base_uri": "https://localhost:8080/"
        },
        "id": "4qGBsxzakBGV",
        "outputId": "ae5acbb8-d0c2-4879-c535-8c70421f5d3e"
      },
      "execution_count": 59,
      "outputs": [
        {
          "output_type": "stream",
          "name": "stdout",
          "text": [
            "['Earth', 'Saturn', 'Venus']\n"
          ]
        }
      ]
    },
    {
      "cell_type": "code",
      "source": [
        "# Nested List\n",
        "nested_list = ['string', 3, 3/2, -2.3, ['nested_list', 2, 3, 5, 'Spartificial'], 'Lunar Exploration', 8.0]\n",
        "print(nested_list)"
      ],
      "metadata": {
        "colab": {
          "base_uri": "https://localhost:8080/"
        },
        "id": "4OiP7o4mkr6E",
        "outputId": "274ef7e9-732f-4f99-de33-e1a898bcd5a2"
      },
      "execution_count": 60,
      "outputs": [
        {
          "output_type": "stream",
          "name": "stdout",
          "text": [
            "['string', 3, 1.5, -2.3, ['nested_list', 2, 3, 5, 'Spartificial'], 'Lunar Exploration', 8.0]\n"
          ]
        }
      ]
    },
    {
      "cell_type": "code",
      "source": [
        "# Indexing a list\n",
        "type(nested_list[4])"
      ],
      "metadata": {
        "colab": {
          "base_uri": "https://localhost:8080/"
        },
        "id": "N9OiKpwSk_pm",
        "outputId": "0c1898b8-dc6c-4725-829c-ff917e8322bd"
      },
      "execution_count": 69,
      "outputs": [
        {
          "output_type": "execute_result",
          "data": {
            "text/plain": [
              "list"
            ]
          },
          "metadata": {},
          "execution_count": 69
        }
      ]
    },
    {
      "cell_type": "code",
      "source": [
        "# Guess the output\n",
        "nested_list[4][-1]"
      ],
      "metadata": {
        "colab": {
          "base_uri": "https://localhost:8080/",
          "height": 35
        },
        "id": "eK3EfJC2lFb6",
        "outputId": "7505200e-61f6-4c74-f9d0-e33f93e03961"
      },
      "execution_count": 65,
      "outputs": [
        {
          "output_type": "execute_result",
          "data": {
            "text/plain": [
              "'Spartificial'"
            ],
            "application/vnd.google.colaboratory.intrinsic+json": {
              "type": "string"
            }
          },
          "metadata": {},
          "execution_count": 65
        }
      ]
    },
    {
      "cell_type": "code",
      "source": [
        "# Change the element if you want using index concept\n",
        "nested_list[4] = 7"
      ],
      "metadata": {
        "id": "-gtD11gLlY-D"
      },
      "execution_count": 71,
      "outputs": []
    },
    {
      "cell_type": "code",
      "source": [
        "# to add element to fav_planets list, use .append(element) on that fav_planets list\n",
        "fav_planets.append('Mars')\n",
        "print(fav_planets)"
      ],
      "metadata": {
        "colab": {
          "base_uri": "https://localhost:8080/"
        },
        "id": "45e97AegmGhN",
        "outputId": "0e212e8d-decd-483e-f7ee-23d682071d3e"
      },
      "execution_count": 73,
      "outputs": [
        {
          "output_type": "stream",
          "name": "stdout",
          "text": [
            "['Earth', 'Saturn', 'Venus', 'Mars']\n"
          ]
        }
      ]
    },
    {
      "cell_type": "code",
      "source": [
        "# Research on how this works! .insert()\n",
        "#fav_planets.insert()"
      ],
      "metadata": {
        "id": "hgDevIRXn4nb"
      },
      "execution_count": null,
      "outputs": []
    },
    {
      "cell_type": "code",
      "source": [
        "# list.remove(element) can be used to remove any element from the list\n",
        "fav_planets.remove('Earth')\n",
        "fav_planets"
      ],
      "metadata": {
        "colab": {
          "base_uri": "https://localhost:8080/",
          "height": 211
        },
        "id": "OAMrz7gHmnzY",
        "outputId": "559208ff-4e3f-457b-f8ae-b7ef01eaba5f"
      },
      "execution_count": 76,
      "outputs": [
        {
          "output_type": "error",
          "ename": "ValueError",
          "evalue": "ignored",
          "traceback": [
            "\u001b[0;31m---------------------------------------------------------------------------\u001b[0m",
            "\u001b[0;31mValueError\u001b[0m                                Traceback (most recent call last)",
            "\u001b[0;32m<ipython-input-76-d685329cb3eb>\u001b[0m in \u001b[0;36m<cell line: 2>\u001b[0;34m()\u001b[0m\n\u001b[1;32m      1\u001b[0m \u001b[0;31m# list.remove(element) can be used to remove any element from the list\u001b[0m\u001b[0;34m\u001b[0m\u001b[0;34m\u001b[0m\u001b[0m\n\u001b[0;32m----> 2\u001b[0;31m \u001b[0mfav_planets\u001b[0m\u001b[0;34m.\u001b[0m\u001b[0mremove\u001b[0m\u001b[0;34m(\u001b[0m\u001b[0;34m'Earth'\u001b[0m\u001b[0;34m)\u001b[0m\u001b[0;34m\u001b[0m\u001b[0;34m\u001b[0m\u001b[0m\n\u001b[0m\u001b[1;32m      3\u001b[0m \u001b[0mfav_planets\u001b[0m\u001b[0;34m\u001b[0m\u001b[0;34m\u001b[0m\u001b[0m\n",
            "\u001b[0;31mValueError\u001b[0m: list.remove(x): x not in list"
          ]
        }
      ]
    },
    {
      "cell_type": "code",
      "source": [
        "print(fav_planets)"
      ],
      "metadata": {
        "colab": {
          "base_uri": "https://localhost:8080/"
        },
        "id": "mQb_i943nJp-",
        "outputId": "e981fe6c-c762-4d65-e94a-7dbfb76c6fa8"
      },
      "execution_count": 78,
      "outputs": [
        {
          "output_type": "stream",
          "name": "stdout",
          "text": [
            "['Venus', 'Mars']\n"
          ]
        }
      ]
    },
    {
      "cell_type": "markdown",
      "source": [
        "### 4. Tuple"
      ],
      "metadata": {
        "id": "3ni3ly7koHb8"
      }
    },
    {
      "cell_type": "code",
      "source": [
        "# Tuples cannot be changed hence they are called immutable\n",
        "tup_1 = (2, 3, [3, 4], (3.2, 1.2, 'string'), -9)\n",
        "print(tup_1)"
      ],
      "metadata": {
        "colab": {
          "base_uri": "https://localhost:8080/"
        },
        "id": "ZnVJTxnvoJK0",
        "outputId": "3f29161a-1f35-4098-fb7b-a98588aad056"
      },
      "execution_count": 80,
      "outputs": [
        {
          "output_type": "stream",
          "name": "stdout",
          "text": [
            "(2, 3, [3, 4], (3.2, 1.2, 'string'), -9)\n"
          ]
        }
      ]
    },
    {
      "cell_type": "code",
      "source": [
        "type(tup_1)"
      ],
      "metadata": {
        "colab": {
          "base_uri": "https://localhost:8080/"
        },
        "id": "rsNTQS_3oUxM",
        "outputId": "0ef97d65-48b7-4a7c-cb98-b6c295ab2e8a"
      },
      "execution_count": 81,
      "outputs": [
        {
          "output_type": "execute_result",
          "data": {
            "text/plain": [
              "tuple"
            ]
          },
          "metadata": {},
          "execution_count": 81
        }
      ]
    },
    {
      "cell_type": "code",
      "source": [
        "tup_1[2]"
      ],
      "metadata": {
        "colab": {
          "base_uri": "https://localhost:8080/",
          "height": 177
        },
        "id": "TXOlaSRAomFP",
        "outputId": "fca4e1a4-11b5-4fc7-a8ef-7cd8f055962c"
      },
      "execution_count": 83,
      "outputs": [
        {
          "output_type": "error",
          "ename": "TypeError",
          "evalue": "ignored",
          "traceback": [
            "\u001b[0;31m---------------------------------------------------------------------------\u001b[0m",
            "\u001b[0;31mTypeError\u001b[0m                                 Traceback (most recent call last)",
            "\u001b[0;32m<ipython-input-83-ee66835b33c9>\u001b[0m in \u001b[0;36m<cell line: 1>\u001b[0;34m()\u001b[0m\n\u001b[0;32m----> 1\u001b[0;31m \u001b[0mtup_1\u001b[0m\u001b[0;34m[\u001b[0m\u001b[0;36m2\u001b[0m\u001b[0;34m]\u001b[0m \u001b[0;34m=\u001b[0m \u001b[0;36m2\u001b[0m\u001b[0;34m\u001b[0m\u001b[0;34m\u001b[0m\u001b[0m\n\u001b[0m",
            "\u001b[0;31mTypeError\u001b[0m: 'tuple' object does not support item assignment"
          ]
        }
      ]
    },
    {
      "cell_type": "markdown",
      "source": [
        "### 5. Unpacking of list and tuple"
      ],
      "metadata": {
        "id": "Dbwluhi3o14n"
      }
    },
    {
      "cell_type": "code",
      "source": [
        "x, y, *others = (1, 2, 3, 4, 5, 6, 7, 8)\n",
        "print(x)\n",
        "print(y)\n",
        "print(others) # by default this will be stored as a list in Python"
      ],
      "metadata": {
        "colab": {
          "base_uri": "https://localhost:8080/"
        },
        "id": "U2R6GOl2o0KV",
        "outputId": "86af5ef1-5085-4f09-fe96-9a17be731e32"
      },
      "execution_count": 89,
      "outputs": [
        {
          "output_type": "stream",
          "name": "stdout",
          "text": [
            "1\n",
            "2\n",
            "[3, 4, 5, 6, 7, 8]\n"
          ]
        }
      ]
    },
    {
      "cell_type": "markdown",
      "source": [
        "### 6. Conversion between list and tuple"
      ],
      "metadata": {
        "id": "tb6nWZgVpZH7"
      }
    },
    {
      "cell_type": "code",
      "source": [
        "demo_tuple = (1, 2, 'sdaoisjdiasd', 'dasjgdajshdkad', -1.0)\n",
        "tuple_to_list = list(demo_tuple)\n",
        "print(type(demo_tuple))\n",
        "print(type(tuple_to_list))"
      ],
      "metadata": {
        "colab": {
          "base_uri": "https://localhost:8080/"
        },
        "id": "lZRC_-SGpbLr",
        "outputId": "89ec649b-66dd-4b05-83d5-96d4cad4a242"
      },
      "execution_count": 91,
      "outputs": [
        {
          "output_type": "stream",
          "name": "stdout",
          "text": [
            "<class 'tuple'>\n",
            "<class 'list'>\n"
          ]
        }
      ]
    },
    {
      "cell_type": "markdown",
      "source": [
        "### 7. Dictionary"
      ],
      "metadata": {
        "id": "iNSQwVa6p3sl"
      }
    },
    {
      "cell_type": "code",
      "source": [
        "# It stores data in the form of key-value pair\n",
        "\n",
        "inner_planets_moon_info = {'Mercury' : 0,\n",
        "                           'Venus' : 0,\n",
        "                           'Earth' : 1,\n",
        "                           'Mars' : 2}\n",
        "\n",
        "type(inner_planets_moon_info)"
      ],
      "metadata": {
        "colab": {
          "base_uri": "https://localhost:8080/"
        },
        "id": "JqpqIeslp5Ij",
        "outputId": "8ef3c7c4-a46a-41fc-c255-28dab925bbba"
      },
      "execution_count": 103,
      "outputs": [
        {
          "output_type": "execute_result",
          "data": {
            "text/plain": [
              "dict"
            ]
          },
          "metadata": {},
          "execution_count": 103
        }
      ]
    },
    {
      "cell_type": "code",
      "source": [
        "print(inner_planets_moon_info)"
      ],
      "metadata": {
        "colab": {
          "base_uri": "https://localhost:8080/"
        },
        "id": "rt7Smu9_qttH",
        "outputId": "943f8690-3ec4-47f9-fa57-87d97d3a95bc"
      },
      "execution_count": 97,
      "outputs": [
        {
          "output_type": "stream",
          "name": "stdout",
          "text": [
            "{'Mercury': 0, 'Venus': 0, 'Earth': 1, 'Mars': 2}\n"
          ]
        }
      ]
    },
    {
      "cell_type": "code",
      "source": [
        "# Print the moons of Mars\n",
        "inner_planets_moon_info['Earth'] = 2"
      ],
      "metadata": {
        "id": "P0SNakRFqxrv"
      },
      "execution_count": 104,
      "outputs": []
    },
    {
      "cell_type": "code",
      "source": [
        "print(inner_planets_moon_info)"
      ],
      "metadata": {
        "colab": {
          "base_uri": "https://localhost:8080/"
        },
        "id": "YXAhQSomrJKO",
        "outputId": "7ade23a9-05fc-4bbe-8622-7fd87ceb4693"
      },
      "execution_count": 105,
      "outputs": [
        {
          "output_type": "stream",
          "name": "stdout",
          "text": [
            "{'Mercury': 0, 'Venus': 0, 'Earth': 2, 'Mars': 2}\n"
          ]
        }
      ]
    },
    {
      "cell_type": "code",
      "source": [
        "# Add Jupiter Key with value of 92\n",
        "inner_planets_moon_info['Jupiter'] = 92\n",
        "print(inner_planets_moon_info)"
      ],
      "metadata": {
        "colab": {
          "base_uri": "https://localhost:8080/"
        },
        "id": "Su9G8ekirNBL",
        "outputId": "79996725-4e88-450d-b03f-7c23a87ff1b4"
      },
      "execution_count": 106,
      "outputs": [
        {
          "output_type": "stream",
          "name": "stdout",
          "text": [
            "{'Mercury': 0, 'Venus': 0, 'Earth': 2, 'Mars': 2, 'Jupiter': 92}\n"
          ]
        }
      ]
    },
    {
      "cell_type": "code",
      "source": [
        "# Remove the jupiter value using pop operation\n",
        "jupiter_moons = inner_planets_moon_info.pop('Jupiter')\n",
        "print(inner_planets_moon_info)"
      ],
      "metadata": {
        "colab": {
          "base_uri": "https://localhost:8080/"
        },
        "id": "NY88ciOgrZC7",
        "outputId": "31acf3cc-a93a-483e-d6b9-22c1037724af"
      },
      "execution_count": 108,
      "outputs": [
        {
          "output_type": "stream",
          "name": "stdout",
          "text": [
            "{'Mercury': 0, 'Venus': 0, 'Earth': 2, 'Mars': 2}\n"
          ]
        }
      ]
    },
    {
      "cell_type": "code",
      "source": [
        "print(jupiter_moons)"
      ],
      "metadata": {
        "colab": {
          "base_uri": "https://localhost:8080/"
        },
        "id": "2rjN9E5xr1kV",
        "outputId": "38222316-8f08-48d0-d65d-0e4834a12897"
      },
      "execution_count": 109,
      "outputs": [
        {
          "output_type": "stream",
          "name": "stdout",
          "text": [
            "92\n"
          ]
        }
      ]
    },
    {
      "cell_type": "code",
      "source": [
        "list(inner_planets_moon_info.items())"
      ],
      "metadata": {
        "colab": {
          "base_uri": "https://localhost:8080/"
        },
        "id": "qcFy2HD_s41D",
        "outputId": "9d5438a5-f3c5-4902-f5e0-d7b83c03327d"
      },
      "execution_count": 115,
      "outputs": [
        {
          "output_type": "execute_result",
          "data": {
            "text/plain": [
              "[('Mercury', 0), ('Venus', 0), ('Earth', 2), ('Mars', 2)]"
            ]
          },
          "metadata": {},
          "execution_count": 115
        }
      ]
    }
  ]
}