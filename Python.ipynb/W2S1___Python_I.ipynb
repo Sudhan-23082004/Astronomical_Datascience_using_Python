{
  "nbformat": 4,
  "nbformat_minor": 0,
  "metadata": {
    "colab": {
      "provenance": []
    },
    "kernelspec": {
      "name": "python3",
      "display_name": "Python 3"
    },
    "language_info": {
      "name": "python"
    }
  },
  "cells": [
    {
      "cell_type": "markdown",
      "source": [
        "## <center> W1S2 | Python - I\n",
        "\n",
        "---"
      ],
      "metadata": {
        "id": "oHb8SKYBpr0e"
      }
    },
    {
      "cell_type": "markdown",
      "source": [
        "### 1. Python Comments"
      ],
      "metadata": {
        "id": "N4VAZhiZqq-f"
      }
    },
    {
      "cell_type": "code",
      "source": [
        "# This is Python Comment - Used to describe the code"
      ],
      "metadata": {
        "id": "GCV9cUOkpx6d"
      },
      "execution_count": null,
      "outputs": []
    },
    {
      "cell_type": "code",
      "source": [
        "\"\"\"\n",
        "This is multi-line comment in Python\n",
        "You can use this to describe multiple things at the same time about the code\n",
        "\"\"\""
      ],
      "metadata": {
        "id": "7tujCLUxqJ2Q"
      },
      "execution_count": null,
      "outputs": []
    },
    {
      "cell_type": "code",
      "source": [
        "You can highlight the code and press ctrl + / to comment full code!\n",
        "Here is the example.\n",
        "Select the full code\n",
        "Now press ctrl + / and see the magic"
      ],
      "metadata": {
        "id": "Dn5Jx98fuU5R"
      },
      "execution_count": null,
      "outputs": []
    },
    {
      "cell_type": "markdown",
      "source": [
        "### 2. Strings"
      ],
      "metadata": {
        "id": "Twx12Cn-qwlX"
      }
    },
    {
      "cell_type": "code",
      "source": [
        "# Strings - When you encapsulate a thing within quotations (single, double, tripple) are expresed as string\n",
        "\"This is a string\""
      ],
      "metadata": {
        "colab": {
          "base_uri": "https://localhost:8080/",
          "height": 36
        },
        "id": "ExBtNa3_qRE-",
        "outputId": "373a98bf-9425-48db-e16f-aebddc7301e3"
      },
      "execution_count": null,
      "outputs": [
        {
          "output_type": "execute_result",
          "data": {
            "text/plain": [
              "'This is a string'"
            ],
            "application/vnd.google.colaboratory.intrinsic+json": {
              "type": "string"
            }
          },
          "metadata": {},
          "execution_count": 36
        }
      ]
    },
    {
      "cell_type": "code",
      "source": [
        "# Use type() command in Python to check the data type\n",
        "type('This is a string')"
      ],
      "metadata": {
        "colab": {
          "base_uri": "https://localhost:8080/"
        },
        "id": "79HyFw5-rOc2",
        "outputId": "531d3cbf-c50f-4910-da83-6a80f1aaf083"
      },
      "execution_count": null,
      "outputs": [
        {
          "output_type": "execute_result",
          "data": {
            "text/plain": [
              "str"
            ]
          },
          "metadata": {},
          "execution_count": 37
        }
      ]
    },
    {
      "cell_type": "code",
      "source": [
        "# Use print() command to print Hello World!\n",
        "print('Hello World')"
      ],
      "metadata": {
        "colab": {
          "base_uri": "https://localhost:8080/"
        },
        "id": "Tau5luZmtV97",
        "outputId": "8ef3122c-02ec-46ec-933f-93c7feaa9d44"
      },
      "execution_count": null,
      "outputs": [
        {
          "output_type": "stream",
          "name": "stdout",
          "text": [
            "Hello World\n"
          ]
        }
      ]
    },
    {
      "cell_type": "code",
      "source": [
        "# By the way the comment below is also a string! It can be used for multi-line comments as explained above\n",
        "'''\n",
        "You might notice that we didn't use print command in previous code cells, yet it was printing it\n",
        "Now, that's how this colab notebook works!\n",
        "- Just note that it prints without print statement only for the last code line in your code cell\n",
        "- If you have multiple lines of code, it won't print data if it is not the last line\n",
        "'''\n",
        "\n",
        "# Check the code below\n",
        "'This will be printed now'\n",
        "\"The above line won't be printed. Use print() command on it to print that as well!\""
      ],
      "metadata": {
        "colab": {
          "base_uri": "https://localhost:8080/",
          "height": 36
        },
        "id": "MluSvg7mta6X",
        "outputId": "3227084b-d9fb-4bee-ca96-50e7efd852ff"
      },
      "execution_count": null,
      "outputs": [
        {
          "output_type": "execute_result",
          "data": {
            "text/plain": [
              "\"The above line won't be printed. Use print() command on it to print that as well!\""
            ],
            "application/vnd.google.colaboratory.intrinsic+json": {
              "type": "string"
            }
          },
          "metadata": {},
          "execution_count": 51
        }
      ]
    },
    {
      "cell_type": "code",
      "source": [
        "\"\"\"\n",
        "Check what happens if you write the text without quotation marks\n",
        "- It shall raise a NameError as Python recgonize text without quotation marks as variables/constants\n",
        "- As we haven't defined such a thing yet, it shall raise the error\n",
        "\"\"\"\n",
        "demo_string"
      ],
      "metadata": {
        "id": "lDkRVmUmq1Il"
      },
      "execution_count": null,
      "outputs": []
    },
    {
      "cell_type": "markdown",
      "source": [
        "### 3. Variables and Constants"
      ],
      "metadata": {
        "id": "C0VbSqTvrMKm"
      }
    },
    {
      "cell_type": "code",
      "source": [
        "# Variables can store different data types. Let's store a string in a variable called demo_string\n",
        "demo_string = 'This is a demo string'"
      ],
      "metadata": {
        "id": "RerJwZGmr6A1"
      },
      "execution_count": null,
      "outputs": []
    },
    {
      "cell_type": "code",
      "source": [
        "# Now demo_string variable can be written without quotation mark as we have defined what it means\n",
        "demo_string"
      ],
      "metadata": {
        "colab": {
          "base_uri": "https://localhost:8080/",
          "height": 36
        },
        "id": "JGAHTyvasPBa",
        "outputId": "76343dcb-6234-463f-a495-3c350e11ead6"
      },
      "execution_count": null,
      "outputs": [
        {
          "output_type": "execute_result",
          "data": {
            "text/plain": [
              "'This is a demo string'"
            ],
            "application/vnd.google.colaboratory.intrinsic+json": {
              "type": "string"
            }
          },
          "metadata": {},
          "execution_count": 44
        }
      ]
    },
    {
      "cell_type": "code",
      "source": [
        "# Constant are defined in upper case letters. This indicates that this value doesn't change anywhere in code\n",
        "PERMANANT_STRING = 'This String will never be altered in this code!'"
      ],
      "metadata": {
        "id": "FqzOzmwEs0T-"
      },
      "execution_count": null,
      "outputs": []
    },
    {
      "cell_type": "markdown",
      "source": [
        "#### 4. f-String"
      ],
      "metadata": {
        "id": "9VuLyuOUtMxI"
      }
    },
    {
      "cell_type": "code",
      "source": [
        "# We use f-string to print a variable that can take multiple values! Check the example below"
      ],
      "metadata": {
        "id": "8CxV3I-ptKdS"
      },
      "execution_count": null,
      "outputs": []
    },
    {
      "cell_type": "code",
      "source": [
        "# Define a variable that stores the information about moons count of Saturn\n",
        "saturn_moons = 146"
      ],
      "metadata": {
        "id": "59YZvy0jvCI0"
      },
      "execution_count": null,
      "outputs": []
    },
    {
      "cell_type": "code",
      "source": [
        "# Print the statement displaying the count of moons of Saturn\n",
        "print('Saturn has 146 Moons') # If saturn's moons count increases in future, we manually have to change this value"
      ],
      "metadata": {
        "colab": {
          "base_uri": "https://localhost:8080/"
        },
        "id": "2bfAYZPavWkI",
        "outputId": "05214706-1858-4d04-9c76-f5f8f1e787e1"
      },
      "execution_count": null,
      "outputs": [
        {
          "output_type": "stream",
          "name": "stdout",
          "text": [
            "Saturn has 146 Moons\n"
          ]
        }
      ]
    },
    {
      "cell_type": "code",
      "source": [
        "# f-string method to dyanamically change the value based on the varibale!\n",
        "saturn_moons = 146 # Change this value to cross check how it works\n",
        "print(f\"Saturn has {saturn_moons} Moons\") # Make sure that variables are mentioned within {} brackets"
      ],
      "metadata": {
        "colab": {
          "base_uri": "https://localhost:8080/"
        },
        "id": "glFJqcr5vXrB",
        "outputId": "e5c65b63-d1b1-4302-dff9-215c4d8f4796"
      },
      "execution_count": null,
      "outputs": [
        {
          "output_type": "stream",
          "name": "stdout",
          "text": [
            "Saturn has 146 Moons\n"
          ]
        }
      ]
    },
    {
      "cell_type": "markdown",
      "source": [
        "### 5. Numeric Data Types"
      ],
      "metadata": {
        "id": "gI1ka9_yv_mH"
      }
    },
    {
      "cell_type": "code",
      "source": [
        "# Create bunch of variables and store numeric data in them\n",
        "var1 = 8\n",
        "var2 = 8.0\n",
        "var3 = 16/2\n",
        "var4 = 123\n",
        "var5 = 123.5"
      ],
      "metadata": {
        "id": "BnAzeGkrwBHu"
      },
      "execution_count": null,
      "outputs": []
    },
    {
      "cell_type": "code",
      "source": [
        "# Check the type for each and every variables above\n",
        "print(type(var1))\n",
        "print(type(var2))\n",
        "print(type(var3))\n",
        "print(type(var4))\n",
        "print(type(var5))"
      ],
      "metadata": {
        "colab": {
          "base_uri": "https://localhost:8080/"
        },
        "id": "DUxaQQmVwJB1",
        "outputId": "7617c28a-cf3b-424b-e87b-cfb2f4ee4a67"
      },
      "execution_count": null,
      "outputs": [
        {
          "output_type": "stream",
          "name": "stdout",
          "text": [
            "<class 'int'>\n",
            "<class 'float'>\n",
            "<class 'float'>\n",
            "<class 'int'>\n",
            "<class 'float'>\n"
          ]
        }
      ]
    },
    {
      "cell_type": "markdown",
      "source": [
        "### 6. Data Type Conversions"
      ],
      "metadata": {
        "id": "LVxzCfI2wsYM"
      }
    },
    {
      "cell_type": "code",
      "source": [
        "# Convert an integer into a string\n",
        "int_data = 3\n",
        "print(int_data)\n",
        "print(type(int_data))\n",
        "\n",
        "print()\n",
        "\n",
        "int_to_str_data = str(int_data)\n",
        "print(int_to_str_data)\n",
        "print(type(int_to_str_data))"
      ],
      "metadata": {
        "colab": {
          "base_uri": "https://localhost:8080/"
        },
        "id": "QBReoNGFwumU",
        "outputId": "e0231b60-ee8a-4edb-c9b8-6c9b6148b01c"
      },
      "execution_count": null,
      "outputs": [
        {
          "output_type": "stream",
          "name": "stdout",
          "text": [
            "3\n",
            "<class 'int'>\n",
            "\n",
            "3\n",
            "<class 'str'>\n"
          ]
        }
      ]
    },
    {
      "cell_type": "code",
      "source": [
        "# Convert that same integer data into float\n",
        "int_to_float_data = float(int_data)\n",
        "print(int_to_float_data)\n",
        "print(type(int_to_float_data))"
      ],
      "metadata": {
        "colab": {
          "base_uri": "https://localhost:8080/"
        },
        "id": "1Z75ziJBxTIZ",
        "outputId": "6aa25fb0-5180-492b-87e6-cf47571dd43e"
      },
      "execution_count": null,
      "outputs": [
        {
          "output_type": "stream",
          "name": "stdout",
          "text": [
            "3.0\n",
            "<class 'float'>\n"
          ]
        }
      ]
    },
    {
      "cell_type": "code",
      "source": [
        "# Convert the string data to float\n",
        "str_data = '3'\n",
        "print(str_data)\n",
        "print(type(str_data))\n",
        "\n",
        "print()\n",
        "\n",
        "str_to_float_data = float(str_data)\n",
        "print(str_to_float_data)\n",
        "print(type(str_to_float_data))"
      ],
      "metadata": {
        "colab": {
          "base_uri": "https://localhost:8080/"
        },
        "id": "-nk699yjxotC",
        "outputId": "69f2b7e1-36c3-4e56-ba5f-3c772186901f"
      },
      "execution_count": null,
      "outputs": [
        {
          "output_type": "stream",
          "name": "stdout",
          "text": [
            "3\n",
            "<class 'str'>\n",
            "\n",
            "3.0\n",
            "<class 'float'>\n"
          ]
        }
      ]
    },
    {
      "cell_type": "code",
      "source": [
        "# Note that only numeric strings can be converted to numeric data\n",
        "str_data = 'Non-Numeric String'\n",
        "str_to_numeric_data = float(str_data)"
      ],
      "metadata": {
        "id": "UikmSVGTyNTV"
      },
      "execution_count": null,
      "outputs": []
    },
    {
      "cell_type": "code",
      "source": [
        "# Numeric string with decimals cannot be converted to integers!\n",
        "str_float_data = '3.2'\n",
        "str_to_int_data = int(str_float_data)"
      ],
      "metadata": {
        "id": "KhHTxJLxy93c"
      },
      "execution_count": null,
      "outputs": []
    },
    {
      "cell_type": "code",
      "source": [],
      "metadata": {
        "colab": {
          "base_uri": "https://localhost:8080/"
        },
        "id": "DN64A9YUzKNl",
        "outputId": "66de3365-0da7-49aa-8b3b-14d97e0f2fa3"
      },
      "execution_count": null,
      "outputs": [
        {
          "output_type": "stream",
          "name": "stdout",
          "text": [
            "3.2\n",
            "<class 'float'>\n"
          ]
        }
      ]
    },
    {
      "cell_type": "markdown",
      "source": [
        "### 7. Boolean Data Type and Python Operators"
      ],
      "metadata": {
        "id": "a8kwEaVR3W96"
      }
    },
    {
      "cell_type": "code",
      "source": [
        "# Boolean --> True or False\n",
        "print(type(True))\n",
        "print(type(False))"
      ],
      "metadata": {
        "colab": {
          "base_uri": "https://localhost:8080/"
        },
        "id": "c4lTvQNX3Zpg",
        "outputId": "ba116d4b-7e45-4a9b-e7fb-09fa2b4d9f6a"
      },
      "execution_count": null,
      "outputs": [
        {
          "output_type": "stream",
          "name": "stdout",
          "text": [
            "<class 'bool'>\n",
            "<class 'bool'>\n"
          ]
        }
      ]
    },
    {
      "cell_type": "code",
      "source": [
        "# It is mostly used to check conditions in Python and get a boolean output for the same\n",
        "print(5>2)\n",
        "print(5<2)\n",
        "print(5+1==3+3)   # Equal Condition\n",
        "print(3-2!=1)     # Not Equal Condition"
      ],
      "metadata": {
        "colab": {
          "base_uri": "https://localhost:8080/"
        },
        "id": "muOUte3w3qPE",
        "outputId": "9820665f-59ff-4cb5-cc5c-9d5067cc1e53"
      },
      "execution_count": null,
      "outputs": [
        {
          "output_type": "stream",
          "name": "stdout",
          "text": [
            "True\n",
            "False\n",
            "True\n",
            "False\n"
          ]
        }
      ]
    },
    {
      "cell_type": "code",
      "source": [
        "# Any data if not 0 or empty is of True Boolean type, else it is False\n",
        "print(bool(1))\n",
        "print(bool(2.5))\n",
        "print(bool('3'))\n",
        "print(bool(0))\n",
        "print(bool('0'))\n",
        "print(bool())"
      ],
      "metadata": {
        "colab": {
          "base_uri": "https://localhost:8080/"
        },
        "id": "ebWwGuHk4Kq5",
        "outputId": "e05aaa44-20a2-471d-b248-cc3467cf645f"
      },
      "execution_count": null,
      "outputs": [
        {
          "output_type": "stream",
          "name": "stdout",
          "text": [
            "True\n",
            "True\n",
            "True\n",
            "False\n",
            "True\n",
            "False\n"
          ]
        }
      ]
    },
    {
      "cell_type": "code",
      "source": [
        "# Guess the output of this code\n",
        "print(bool(int('0')))"
      ],
      "metadata": {
        "id": "0QCI9IMj4ayT"
      },
      "execution_count": null,
      "outputs": []
    },
    {
      "cell_type": "code",
      "source": [
        "# Modulo operator\n",
        "3%2 # Gives you the remainder of 3/2"
      ],
      "metadata": {
        "colab": {
          "base_uri": "https://localhost:8080/"
        },
        "id": "mDI9vx8840hk",
        "outputId": "c74c3533-01ef-4cc1-9cfb-3d05f32fad48"
      },
      "execution_count": null,
      "outputs": [
        {
          "output_type": "execute_result",
          "data": {
            "text/plain": [
              "1"
            ]
          },
          "metadata": {},
          "execution_count": 104
        }
      ]
    },
    {
      "cell_type": "code",
      "source": [
        "# Normal Division\n",
        "5/2 # Performs the division operation"
      ],
      "metadata": {
        "colab": {
          "base_uri": "https://localhost:8080/"
        },
        "id": "jO8OjRCl5Ivl",
        "outputId": "8fce02a9-d8b5-4607-8656-dfdb5fdbcf5e"
      },
      "execution_count": null,
      "outputs": [
        {
          "output_type": "execute_result",
          "data": {
            "text/plain": [
              "2.5"
            ]
          },
          "metadata": {},
          "execution_count": 107
        }
      ]
    },
    {
      "cell_type": "code",
      "source": [
        "# Floor Division\n",
        "5//2 # Rounds down to integer of 5/2 output"
      ],
      "metadata": {
        "colab": {
          "base_uri": "https://localhost:8080/"
        },
        "id": "6Oi1cvw15CZm",
        "outputId": "1fd6c9f7-21b2-4ada-8e0e-cc87aa651363"
      },
      "execution_count": null,
      "outputs": [
        {
          "output_type": "execute_result",
          "data": {
            "text/plain": [
              "2"
            ]
          },
          "metadata": {},
          "execution_count": 106
        }
      ]
    },
    {
      "cell_type": "markdown",
      "source": [
        "### 8. Take User Input"
      ],
      "metadata": {
        "id": "qZ9C9PpO5U06"
      }
    },
    {
      "cell_type": "code",
      "source": [
        "# Using input() method you can ask user to provide some information\n",
        "input('Enter your Name:- ')"
      ],
      "metadata": {
        "colab": {
          "base_uri": "https://localhost:8080/",
          "height": 53
        },
        "id": "egCLdPmN5gaB",
        "outputId": "4784e7e4-a117-4b6b-f55b-75fb74cda530"
      },
      "execution_count": null,
      "outputs": [
        {
          "name": "stdout",
          "output_type": "stream",
          "text": [
            "Enter your Name:- Rohan\n"
          ]
        },
        {
          "output_type": "execute_result",
          "data": {
            "text/plain": [
              "'Rohan'"
            ],
            "application/vnd.google.colaboratory.intrinsic+json": {
              "type": "string"
            }
          },
          "metadata": {},
          "execution_count": 109
        }
      ]
    },
    {
      "cell_type": "code",
      "source": [
        "# You can also store the user input as a variable/constant\n",
        "number = input('Enter your favourite number:- ')"
      ],
      "metadata": {
        "colab": {
          "base_uri": "https://localhost:8080/"
        },
        "id": "BF8wFySm5p8x",
        "outputId": "89024e30-8744-4287-81b6-069d95abea3b"
      },
      "execution_count": null,
      "outputs": [
        {
          "name": "stdout",
          "output_type": "stream",
          "text": [
            "Enter your favourite number:- 7\n"
          ]
        }
      ]
    },
    {
      "cell_type": "code",
      "source": [
        "# Guess the data type of variable number\n",
        "print(type(number))"
      ],
      "metadata": {
        "colab": {
          "base_uri": "https://localhost:8080/"
        },
        "id": "XnYjnrGO5y7L",
        "outputId": "1d348d93-f171-43dc-b156-236e753df67d"
      },
      "execution_count": null,
      "outputs": [
        {
          "output_type": "stream",
          "name": "stdout",
          "text": [
            "<class 'str'>\n"
          ]
        }
      ]
    },
    {
      "cell_type": "code",
      "source": [
        "# How will take an input from user and convert it to numeric type?\n",
        "user_input_num = int(input('Choose any number between 1 to 10:- '))\n",
        "print(type(user_input_num))"
      ],
      "metadata": {
        "colab": {
          "base_uri": "https://localhost:8080/"
        },
        "id": "y_6051_R54qt",
        "outputId": "aa37e476-780a-482f-9be7-ef6a3fac035b"
      },
      "execution_count": null,
      "outputs": [
        {
          "output_type": "stream",
          "name": "stdout",
          "text": [
            "Choose any number between 1 to 10:- 5\n",
            "<class 'int'>\n"
          ]
        }
      ]
    },
    {
      "cell_type": "markdown",
      "source": [
        "### 9. Common String Operations"
      ],
      "metadata": {
        "id": "F56Lw38o6YZ9"
      }
    },
    {
      "cell_type": "code",
      "source": [
        "# Count the length of the string\n",
        "str_ = 'How many charachters are there in this string?'\n",
        "print(len(str_)) # len command helps you count it (also counts space as one charachter)"
      ],
      "metadata": {
        "colab": {
          "base_uri": "https://localhost:8080/"
        },
        "id": "ZIdUq1vY6Kmi",
        "outputId": "925393e3-a662-4a68-cef5-1f1e474bbf2d"
      },
      "execution_count": null,
      "outputs": [
        {
          "output_type": "stream",
          "name": "stdout",
          "text": [
            "46\n"
          ]
        }
      ]
    },
    {
      "cell_type": "code",
      "source": [
        "# Change the first letter of every word to upper case\n",
        "str_method_1 = 'this is a string'\n",
        "print(str_method_1)\n",
        "\n",
        "str_method_1 = str_method_1.title()\n",
        "print(str_method_1)"
      ],
      "metadata": {
        "colab": {
          "base_uri": "https://localhost:8080/"
        },
        "id": "KZudSbCG7wpT",
        "outputId": "a1edb3a7-c986-48d2-eef7-975015a92240"
      },
      "execution_count": null,
      "outputs": [
        {
          "output_type": "stream",
          "name": "stdout",
          "text": [
            "this is a string\n",
            "This Is A String\n"
          ]
        }
      ]
    },
    {
      "cell_type": "code",
      "source": [
        "# Change the string to upper case\n",
        "str_method_2 = str_method_1.upper()\n",
        "print(str_method_2)"
      ],
      "metadata": {
        "colab": {
          "base_uri": "https://localhost:8080/"
        },
        "id": "eyU_PWn98l1o",
        "outputId": "7f224f86-7831-452f-9d97-c6b6240a4922"
      },
      "execution_count": null,
      "outputs": [
        {
          "output_type": "stream",
          "name": "stdout",
          "text": [
            "THIS IS A STRING\n"
          ]
        }
      ]
    },
    {
      "cell_type": "code",
      "source": [
        "# Change the string to lower case\n",
        "str_method_3 = str_method_2.lower()\n",
        "print(str_method_3)"
      ],
      "metadata": {
        "colab": {
          "base_uri": "https://localhost:8080/"
        },
        "id": "z3Cc-wLH8r4O",
        "outputId": "fefd255d-0a8a-4768-b456-5dbfb900a430"
      },
      "execution_count": null,
      "outputs": [
        {
          "output_type": "stream",
          "name": "stdout",
          "text": [
            "this is a string\n"
          ]
        }
      ]
    },
    {
      "cell_type": "code",
      "source": [
        "# Split a string\n",
        "str_method_4 = str_method_3.split(\" \") # within quotes you give the str splitter\n",
        "print(str_method_4) # output will be stored as a list - it one of the most used data structure to store data"
      ],
      "metadata": {
        "colab": {
          "base_uri": "https://localhost:8080/"
        },
        "id": "rcgwXpUG8zbS",
        "outputId": "58a1d548-79a1-4787-f672-231cff441cd7"
      },
      "execution_count": null,
      "outputs": [
        {
          "output_type": "stream",
          "name": "stdout",
          "text": [
            "['this', 'is', 'a', 'string']\n"
          ]
        }
      ]
    },
    {
      "cell_type": "code",
      "source": [
        "# Replace a string\n",
        "\n",
        "# Create a string\n",
        "demo_string = 'Hello\\nThis is the second line'\n",
        "print('Before:-')\n",
        "print(demo_string)\n",
        "\n",
        "print()\n",
        "\n",
        "# Replace \\n with a space\n",
        "demo_string = demo_string.replace(\"\\n\", \" \")\n",
        "print('After replacing the string:-')\n",
        "print(demo_string)"
      ],
      "metadata": {
        "colab": {
          "base_uri": "https://localhost:8080/"
        },
        "id": "Pw4GOITQ7jvI",
        "outputId": "15076b85-8c1b-4fb2-a931-2c187fd304b9"
      },
      "execution_count": null,
      "outputs": [
        {
          "output_type": "stream",
          "name": "stdout",
          "text": [
            "Before:-\n",
            "Hello\n",
            "This is the second line\n",
            "\n",
            "After replacing the string:-\n",
            "Hello This is the second line\n"
          ]
        }
      ]
    },
    {
      "cell_type": "markdown",
      "source": [
        "<img src='https://cdn.programiz.com/sites/tutorial2program/files/python-list-index.png' width=50%>"
      ],
      "metadata": {
        "id": "oeYhZUbe8mkV"
      }
    },
    {
      "cell_type": "code",
      "source": [
        "# Indexing String\n",
        "\n",
        "# Python index starts from index 0 (from the end it starts from -1 - both side indexing is possible)\n",
        "\n",
        "str_ = 'probe'\n",
        "\n",
        "# Grab 'b' from the above string using positive and negative indexing\n",
        "print(str_[3])\n",
        "print(str_[-2])"
      ],
      "metadata": {
        "colab": {
          "base_uri": "https://localhost:8080/"
        },
        "id": "TbTKQ0Lt8TJY",
        "outputId": "dc161d46-9fde-4f92-d49b-254c440282ff"
      },
      "execution_count": 1,
      "outputs": [
        {
          "output_type": "stream",
          "name": "stdout",
          "text": [
            "b\n",
            "b\n"
          ]
        }
      ]
    },
    {
      "cell_type": "code",
      "source": [
        "# Slicing String\n",
        "\n",
        "# Grab 'rob' from the string above\n",
        "print(str_[1:-1]) # [inclusive_index_value:exclusive_index_value]\n",
        "print(str_[1:4])\n",
        "\n",
        "# Grab 'obe' from the string above\n",
        "print(str_[2:5])\n",
        "print(str_[2:])"
      ],
      "metadata": {
        "colab": {
          "base_uri": "https://localhost:8080/"
        },
        "id": "mLQBKRDM89xw",
        "outputId": "9835b145-4471-4fb8-e964-16a223cc679d"
      },
      "execution_count": null,
      "outputs": [
        {
          "output_type": "stream",
          "name": "stdout",
          "text": [
            "rob\n",
            "rob\n",
            "obe\n",
            "obe\n"
          ]
        }
      ]
    },
    {
      "cell_type": "code",
      "source": [
        "# Can you grab 'pro' from the above string?\n",
        "print(str_[:3])"
      ],
      "metadata": {
        "colab": {
          "base_uri": "https://localhost:8080/"
        },
        "id": "cm9kPfYB9aC_",
        "outputId": "c6a9b89e-3d19-4845-ab92-38112ca6e6e7"
      },
      "execution_count": null,
      "outputs": [
        {
          "output_type": "stream",
          "name": "stdout",
          "text": [
            "pro\n"
          ]
        }
      ]
    },
    {
      "cell_type": "markdown",
      "source": [
        "### 10. Practice Questions and its Solutions - Try by yourself"
      ],
      "metadata": {
        "id": "m6r9Q77o9M3w"
      }
    },
    {
      "cell_type": "markdown",
      "source": [
        "**Q1)** Is the code below a correct way to comment the code in Python?\n",
        "\n",
        "```\n",
        "\"'\"\n",
        "Python Comment Line - 1\n",
        "Python Comment Line - 2\n",
        "\"'\"\n",
        "```"
      ],
      "metadata": {
        "id": "vQcF-wFqCluC"
      }
    },
    {
      "cell_type": "markdown",
      "source": [
        "**A1)** Nope, as there is a mixture of single and double quotations, it is not a correct way to comment a Python code.\n",
        "* You can either have a single quotes or double quotes  for three times for a valid python comment for multiple lines."
      ],
      "metadata": {
        "id": "1LuGwr0rC-uv"
      }
    },
    {
      "cell_type": "code",
      "source": [
        "\"'\"\n",
        "Python Comment Line - 1\n",
        "Python Comment Line - 2\n",
        "\"'\""
      ],
      "metadata": {
        "id": "xcbtE_sPCiVn"
      },
      "execution_count": null,
      "outputs": []
    },
    {
      "cell_type": "code",
      "source": [
        "# Correct way for multiline comments in Python\n",
        "\"\"\"\n",
        "Python Comment Line - 1\n",
        "Python Comment Line - 2\n",
        "\"\"\""
      ],
      "metadata": {
        "id": "4OAlzK3tEHNI"
      },
      "execution_count": null,
      "outputs": []
    },
    {
      "cell_type": "markdown",
      "source": [
        "**Q2)** Follow the steps below:-\n",
        "1. Create three variables that will store your name, date of birth and height.\n",
        "2. Print the statement that introduces the person based on the input details.\n",
        "\n",
        "**Note:-** No specific format to follow, introduce the user the way you want. Keep the tone as first person."
      ],
      "metadata": {
        "id": "FGB0U7vcERjw"
      }
    },
    {
      "cell_type": "code",
      "source": [
        "# Write your solution here\n",
        "\n",
        "\n"
      ],
      "metadata": {
        "id": "MrofsiQzE4_V"
      },
      "execution_count": null,
      "outputs": []
    },
    {
      "cell_type": "code",
      "source": [
        "# Soln\n",
        "name = input('Enter your name:- ').title() # title will ensure the first letter of each word is capital\n",
        "dob = input('Give your Date of Birth in the format (dd/mm/yyyy):- ')\n",
        "height = input('Give your height in the format (x Ft and y In):- ')\n",
        "print()\n",
        "\n",
        "# Using f-string for this task\n",
        "print(f'Hello, I am {name} and I was born on {dob}. My height is {height}.')"
      ],
      "metadata": {
        "colab": {
          "base_uri": "https://localhost:8080/"
        },
        "id": "8O-1GuQxE7dL",
        "outputId": "46f4b601-19cb-49ff-cf4c-a19d77ac5657"
      },
      "execution_count": null,
      "outputs": [
        {
          "output_type": "stream",
          "name": "stdout",
          "text": [
            "Enter your name:- rohan shah\n",
            "Give your Date of Birth in the format (dd/mm/yyyy):- 21/01/1887\n",
            "Give your height in the format (x Ft and y In):- 10 Ft 1 In\n",
            "\n",
            "Hello, I am Rohan Shah and I was born on 21/01/1887. My height is 10 Ft 1 In.\n"
          ]
        }
      ]
    },
    {
      "cell_type": "markdown",
      "source": [
        "**Q3)** Follow the steps:-\n",
        "1. Ask user to input any number of their choice.\n",
        "2. Ask again to input any number of their choice.\n",
        "3. Give them the sum of the two numbers they provided.\n",
        "\n",
        "**Note:-** Give an introduction of what you want from user and what is it all about."
      ],
      "metadata": {
        "id": "Lws0hSeBHZwj"
      }
    },
    {
      "cell_type": "code",
      "source": [
        "# Write your solution here\n",
        "\n",
        "\n",
        "\n"
      ],
      "metadata": {
        "id": "ldjC4rVIJMuX"
      },
      "execution_count": null,
      "outputs": []
    },
    {
      "cell_type": "code",
      "source": [
        "# Introduce user to the interface\n",
        "print('Give me two numbers, and I will find its sum for you...')\n",
        "print()\n",
        "\n",
        "# Take user inputs\n",
        "num1 = float(input('Choose any number of your choice:- '))\n",
        "num2 = float(input('Choose another number of your choice:- '))\n",
        "\n",
        "print()\n",
        "\n",
        "# Output will display the following content - Note we used ''' ''' for multiline in print\n",
        "print(f'''You provided {num1} and {num2} as two inputs.\n",
        "Here is the sum of these two numbers:- {num1} + {num2} = {num1+num2}''')\n"
      ],
      "metadata": {
        "colab": {
          "base_uri": "https://localhost:8080/"
        },
        "id": "mZy_XwmxIFrh",
        "outputId": "aeb7f2eb-b16d-4517-9eaa-a2870a5bb16b"
      },
      "execution_count": null,
      "outputs": [
        {
          "output_type": "stream",
          "name": "stdout",
          "text": [
            "Give me two numbers, and I will find its sum for you...\n",
            "\n",
            "Choose any number of your choice:- 8\n",
            "Choose another number of your choice:- 2\n",
            "\n",
            "You provided 8.0 and 2.0 as two inputs. \n",
            "Here is the sum of these two numbers:- 8.0 + 2.0 = 10.0\n"
          ]
        }
      ]
    },
    {
      "cell_type": "markdown",
      "source": [
        "**Q4)** Print `True` or `False` based on if the user input numbers in Q3 are divisible by each other.\n",
        "* Basically, check if the first number given by the user is divisible by the second number or not\n",
        "* You are not supposed to use `if-else` statements"
      ],
      "metadata": {
        "id": "lmzABpwAJThs"
      }
    },
    {
      "cell_type": "code",
      "source": [
        "# Write your code here\n"
      ],
      "metadata": {
        "id": "JN__p0y3KXcA"
      },
      "execution_count": null,
      "outputs": []
    },
    {
      "cell_type": "code",
      "source": [
        "# Soln\n",
        "print(num1%num2==0)"
      ],
      "metadata": {
        "colab": {
          "base_uri": "https://localhost:8080/"
        },
        "id": "IiNmCdAmKEtp",
        "outputId": "c8b3fdfe-0dc7-420f-8732-71e92023929e"
      },
      "execution_count": null,
      "outputs": [
        {
          "output_type": "execute_result",
          "data": {
            "text/plain": [
              "True"
            ]
          },
          "metadata": {},
          "execution_count": 144
        }
      ]
    },
    {
      "cell_type": "markdown",
      "source": [
        "**Q5)** How many errors can you spot?\n",
        "\n",
        "```\n",
        "var1 = '2.3'\n",
        "Print(This is not a valid code)\n",
        "```\n",
        "\n",
        "Give reason to your answer.\n"
      ],
      "metadata": {
        "id": "KVgoSolIKxn9"
      }
    },
    {
      "cell_type": "markdown",
      "source": [
        "**A5)** Below are the mistakes in the code above:-\n",
        "1. `Print()` isn't the correct command in Python. It should be `print()`.\n",
        "2. The input of the print is wihtout quotation and the input isn't predefined hence it is an error."
      ],
      "metadata": {
        "id": "dQLJzYbPLBHH"
      }
    },
    {
      "cell_type": "code",
      "source": [
        "var1 = '2.3'\n",
        "Print(This is not a valid code)"
      ],
      "metadata": {
        "id": "L3E6caC5LAyy"
      },
      "execution_count": null,
      "outputs": []
    },
    {
      "cell_type": "code",
      "source": [
        "# The correct code would be\n",
        "var1 = '2.3' # unused variable in the code cell\n",
        "print('This is not a valid code') # fixed code"
      ],
      "metadata": {
        "colab": {
          "base_uri": "https://localhost:8080/"
        },
        "id": "WXp6TI7cLUae",
        "outputId": "849058ce-0661-404c-963b-209659c17da5"
      },
      "execution_count": null,
      "outputs": [
        {
          "output_type": "stream",
          "name": "stdout",
          "text": [
            "This is not a valid code\n"
          ]
        }
      ]
    },
    {
      "cell_type": "markdown",
      "source": [
        "---\n",
        "\n",
        "## In this notebook we covered\n",
        "1. Python comments\n",
        "2. Strings\n",
        "3. Variables\n",
        "4. f-Strings\n",
        "5. Numeric Data Type\n",
        "6. Data Type Conversions\n",
        "7. Boolean Data Type and Python Operators\n",
        "8. User Input\n",
        "9. Common String Operations\n",
        "10. Practice Questions - Try Yourself\n"
      ],
      "metadata": {
        "id": "2RMvyyl5zYLH"
      }
    }
  ]
}