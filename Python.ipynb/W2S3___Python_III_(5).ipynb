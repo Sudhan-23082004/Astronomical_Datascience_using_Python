{
  "cells": [
    {
      "cell_type": "markdown",
      "metadata": {
        "id": "gYPIYt-eOzly"
      },
      "source": [
        "# <center> W2S3 | Python - III\n",
        "\n",
        "---"
      ]
    },
    {
      "cell_type": "markdown",
      "metadata": {
        "id": "skPJD6cgbTz2"
      },
      "source": [
        "**In this Session:-**       \n",
        "1. Loop with Condition\n",
        "2. List Comprehension\n",
        "3. Functions\n",
        "4. Object-Oriented Programming\n",
        "5. NumPy\n",
        "6. Matplotlib\n",
        "7. Practice Questions for you"
      ]
    },
    {
      "cell_type": "markdown",
      "metadata": {
        "id": "A1iMqAgLuL6G"
      },
      "source": [
        "### 1. Loop with Condition"
      ]
    },
    {
      "cell_type": "code",
      "execution_count": null,
      "metadata": {
        "colab": {
          "base_uri": "https://localhost:8080/"
        },
        "id": "8X4CoSvbuptf",
        "outputId": "6b7f61be-3349-40af-b138-d33c903f3bed"
      },
      "outputs": [
        {
          "name": "stdout",
          "output_type": "stream",
          "text": [
            "0\n",
            "1\n",
            "2\n",
            "3\n"
          ]
        }
      ],
      "source": [
        "# Guess the output of this code\n",
        "for index in range(0, 10):\n",
        "    print(index)\n",
        "    if index == 3:\n",
        "        break # Breaks the loop if the condition is met"
      ]
    },
    {
      "cell_type": "code",
      "execution_count": null,
      "metadata": {
        "colab": {
          "base_uri": "https://localhost:8080/"
        },
        "id": "99kJbrzTxAGO",
        "outputId": "f508c91e-bbf5-4cf3-e073-399ff07b3540"
      },
      "outputs": [
        {
          "name": "stdout",
          "output_type": "stream",
          "text": [
            "(0,0)\n",
            "(0,1)\n",
            "(0,2)\n",
            "(1,0)\n",
            "(1,1)\n",
            "(1,2)\n",
            "(2,0)\n",
            "(2,1)\n",
            "(2,2)\n",
            "(3,0)\n",
            "(3,1)\n",
            "(3,2)\n",
            "(4,0)\n",
            "(4,1)\n",
            "(4,2)\n"
          ]
        }
      ],
      "source": [
        "# Can you guess what's happening here and which loop will break?\n",
        "for x in range(5): # x = 0, 1\n",
        "    for y in range(5): # y =0, y = 1 --> (0, 0), (0, 1), (1, 0), (1, 1)\n",
        "        if y > 2:\n",
        "            break\n",
        "        print(f\"({x},{y})\")"
      ]
    },
    {
      "cell_type": "code",
      "execution_count": null,
      "metadata": {
        "colab": {
          "base_uri": "https://localhost:8080/"
        },
        "id": "SLLVKjaBxSc9",
        "outputId": "30d2af87-5d7f-4de8-b879-c9e89ad83ca5"
      },
      "outputs": [
        {
          "name": "stdout",
          "output_type": "stream",
          "text": [
            "-- Help: type quit to exit --\n",
            "Enter your favorite color:quit\n"
          ]
        }
      ],
      "source": [
        "# Using break with while loop\n",
        "print('-- Help: type quit to exit --')\n",
        "while True:\n",
        "    color = input('Enter your favorite color:')\n",
        "    # Alternate way to terminate the while loop will be:- use color.upper() == 'QUIT'\n",
        "    if color.lower() == 'quit':\n",
        "        break"
      ]
    },
    {
      "cell_type": "code",
      "execution_count": null,
      "metadata": {
        "colab": {
          "base_uri": "https://localhost:8080/"
        },
        "id": "epF6n1xRwh2h",
        "outputId": "6a430e46-f174-486f-f130-15395a07a651"
      },
      "outputs": [
        {
          "name": "stdout",
          "output_type": "stream",
          "text": [
            "Found one Gas Giant - Jupiter. Mission accomplished!\n"
          ]
        }
      ],
      "source": [
        "# Create a tuple to store all the planets in our solar system\n",
        "planets = (\"Mercury\", \"Venus\", \"Earth\", \"Mars\", \"Jupiter\", \"Saturn\", \"Uranus\", \"Neptune\")\n",
        "\n",
        "# Your mission is to find if any gas giant is present in the planets tuple. If found even one, terminate the search\n",
        "gas_giants = ('Jupiter', 'Saturn', 'Uranus', 'Neptune')\n",
        "\n",
        "for planet in planets:\n",
        "  if planet.title() in gas_giants:\n",
        "    print(f'Found one Gas Giant - {planet.title()}. Mission accomplished!')\n",
        "    break\n",
        "else:\n",
        "  print(f'All the plantes are explored. No Gas Giants found in the Mission!')"
      ]
    },
    {
      "cell_type": "markdown",
      "metadata": {
        "id": "BF-3rD0Rx6JT"
      },
      "source": [
        "### 2. List Comprehension"
      ]
    },
    {
      "cell_type": "code",
      "execution_count": null,
      "metadata": {
        "colab": {
          "base_uri": "https://localhost:8080/"
        },
        "id": "e_WIYCZKx9Mk",
        "outputId": "eb8cd22c-e7ea-4846-8c43-941b91bdd045"
      },
      "outputs": [
        {
          "name": "stdout",
          "output_type": "stream",
          "text": [
            "[6, 7, 8, 9]\n"
          ]
        }
      ],
      "source": [
        "# Create a string\n",
        "str_var = '123456789'\n",
        "\n",
        "# Store charachter of this string as an integer element of a list called char_list if it is more than 5\n",
        "char_list = []\n",
        "\n",
        "for ch in str_var:\n",
        "  if int(ch) > 5:\n",
        "    char_list.append(int(ch))\n",
        "\n",
        "# Print the char_list\n",
        "print(char_list)"
      ]
    },
    {
      "cell_type": "code",
      "execution_count": null,
      "metadata": {
        "colab": {
          "base_uri": "https://localhost:8080/"
        },
        "id": "dHfYEZfRyUGc",
        "outputId": "9d30c871-82e8-41d5-dfbb-9a8d38a2380a"
      },
      "outputs": [
        {
          "name": "stdout",
          "output_type": "stream",
          "text": [
            "[6, 7, 8, 9]\n"
          ]
        }
      ],
      "source": [
        "# List comprehension to do the same task\n",
        "char_list = [int(ch) for ch in str_var if int(ch) > 5] # [<element to append in list> <for condition> <if condition>]\n",
        "print(char_list)"
      ]
    },
    {
      "cell_type": "markdown",
      "metadata": {
        "id": "0G58GmuOzFbl"
      },
      "source": [
        "### 3. Functions"
      ]
    },
    {
      "cell_type": "code",
      "execution_count": null,
      "metadata": {
        "id": "7_WF3ba2zHJM"
      },
      "outputs": [],
      "source": [
        "# Define a function to greet with no parameters\n",
        "def greet():\n",
        "  print('Hello!')"
      ]
    },
    {
      "cell_type": "code",
      "execution_count": null,
      "metadata": {
        "colab": {
          "base_uri": "https://localhost:8080/"
        },
        "id": "ER42WWamzTxz",
        "outputId": "0d9e1df2-6c40-49c8-dcde-99561b7120b7"
      },
      "outputs": [
        {
          "name": "stdout",
          "output_type": "stream",
          "text": [
            "Hello!\n"
          ]
        }
      ],
      "source": [
        "# Call the function\n",
        "greet()"
      ]
    },
    {
      "cell_type": "code",
      "execution_count": null,
      "metadata": {
        "id": "CWYigSPZzWEG"
      },
      "outputs": [],
      "source": [
        "# Define the same function but now with name argument\n",
        "def greet(name):\n",
        "  print(f'Hey, {name.title()}!')"
      ]
    },
    {
      "cell_type": "code",
      "execution_count": null,
      "metadata": {
        "colab": {
          "base_uri": "https://localhost:8080/"
        },
        "id": "CR8MaYQgzhxG",
        "outputId": "bad220d3-6c9d-4cbd-f0db-93148fb43659"
      },
      "outputs": [
        {
          "name": "stdout",
          "output_type": "stream",
          "text": [
            "Hey, Rohan Shah!\n"
          ]
        }
      ],
      "source": [
        "# Call the function\n",
        "greet('rohan shah')"
      ]
    },
    {
      "cell_type": "code",
      "execution_count": null,
      "metadata": {
        "id": "5z5IXgThzlvW"
      },
      "outputs": [],
      "source": [
        "# Function with positional arguments (order matters)\n",
        "def greet(name, msg):\n",
        "  print(f\"Hey {name.title()}! {msg}\")"
      ]
    },
    {
      "cell_type": "code",
      "execution_count": null,
      "metadata": {
        "colab": {
          "base_uri": "https://localhost:8080/"
        },
        "id": "WhjLwHST0DgG",
        "outputId": "95c2c453-4d00-4dab-9d50-8c9f14bd649a"
      },
      "outputs": [
        {
          "name": "stdout",
          "output_type": "stream",
          "text": [
            "Hey Rohan Shah! Welcome to week 2 of AI4LR\n",
            "Hey Welcome To Week 2 Of Ai4Lr! Rohan Shah\n"
          ]
        }
      ],
      "source": [
        "# Call the function\n",
        "greet('Rohan Shah', 'Welcome to week 2 of AI4LR')\n",
        "greet('Welcome to week 2 of AI4LR', 'Rohan Shah') # Position matters!"
      ]
    },
    {
      "cell_type": "code",
      "execution_count": null,
      "metadata": {
        "colab": {
          "base_uri": "https://localhost:8080/"
        },
        "id": "1YXwcp8F0url",
        "outputId": "a898bda5-7974-476a-bec3-b0e34512cc4a"
      },
      "outputs": [
        {
          "name": "stdout",
          "output_type": "stream",
          "text": [
            "Hey Rohan Shah! Welcome to week 2 of AI4LR\n"
          ]
        }
      ],
      "source": [
        "# Calling function via keyword arguments, this way order won't matter\n",
        "greet(msg='Welcome to week 2 of AI4LR', name='Rohan Shah')"
      ]
    },
    {
      "cell_type": "code",
      "execution_count": null,
      "metadata": {
        "id": "_Jh8wqag2FYk"
      },
      "outputs": [],
      "source": [
        "# Default arguments while building a function\n",
        "def greet(name, msg = 'Hello'):\n",
        "  print(f'{msg}, {name.title()}!')"
      ]
    },
    {
      "cell_type": "code",
      "execution_count": null,
      "metadata": {
        "colab": {
          "base_uri": "https://localhost:8080/"
        },
        "id": "G4SMTDAtVeWa",
        "outputId": "4b7577ee-5d63-48f7-a4b5-675d4fe54c81"
      },
      "outputs": [
        {
          "name": "stdout",
          "output_type": "stream",
          "text": [
            "Hello, Rohan!\n"
          ]
        }
      ],
      "source": [
        "greet('Rohan')"
      ]
    },
    {
      "cell_type": "code",
      "execution_count": null,
      "metadata": {
        "colab": {
          "base_uri": "https://localhost:8080/"
        },
        "id": "CShQqdMa2cm_",
        "outputId": "5507f82b-ab9d-47dd-e6aa-27dc7d24fb5a"
      },
      "outputs": [
        {
          "name": "stdout",
          "output_type": "stream",
          "text": [
            "Hello, Rohan!\n",
            "Hi, Rohan!\n",
            "Heya, Rohan!\n",
            "Heeyyy, Rohan!\n",
            "\n"
          ]
        }
      ],
      "source": [
        "# Call the function with/without msg arg but also keep in mind the order whenever mixing the different arguments\n",
        "'''\n",
        "Find Imposter (error code) amongst this:-\n",
        "'''\n",
        "greet('Rohan')\n",
        "greet('Rohan', 'Hi')\n",
        "#greet(msg='Helluuuuuu', 'Rohan')\n",
        "greet(msg='Heya', name='Rohan')\n",
        "greet('Rohan', msg='Heeyyy')\n",
        "\n",
        "print()"
      ]
    },
    {
      "cell_type": "markdown",
      "metadata": {
        "id": "Rmto6vOF3br0"
      },
      "source": [
        "* Combining these concepts, you can have functions with a mix of positional, keyword, and default arguments.\n",
        "* When defining such a function, positional arguments must come before keyword arguments.\n",
        "* As the order matters in positional arguments.\n"
      ]
    },
    {
      "cell_type": "code",
      "execution_count": null,
      "metadata": {
        "id": "dOg20YDM3Zv0"
      },
      "outputs": [],
      "source": [
        "# Positional args --> Key Word arguments\n",
        "def example_function(arg1, arg2, kwarg1=\"default_value\", kwarg2=\"another_default\"):\n",
        "    pass"
      ]
    },
    {
      "cell_type": "code",
      "execution_count": null,
      "metadata": {
        "id": "86Al5Yyz3_l-"
      },
      "outputs": [],
      "source": [
        "# Recursive Function\n",
        "def count_down(start_countdown_val, first_call=True):\n",
        "  if first_call == True:\n",
        "    print('Launching our Rocket in:-\\n')\n",
        "  print(start_countdown_val)\n",
        "  next_val = start_countdown_val - 1\n",
        "  if next_val > 0:\n",
        "    count_down(next_val, False)\n",
        "  else:\n",
        "    print('\\nLift Off Begins!')"
      ]
    },
    {
      "cell_type": "code",
      "execution_count": null,
      "metadata": {
        "colab": {
          "base_uri": "https://localhost:8080/"
        },
        "id": "n7iLuBm14ZnY",
        "outputId": "e7e26033-9830-4e82-97ee-68bbe63bb53b"
      },
      "outputs": [
        {
          "name": "stdout",
          "output_type": "stream",
          "text": [
            "Launching our Rocket in:-\n",
            "\n",
            "10\n",
            "9\n",
            "8\n",
            "7\n",
            "6\n",
            "5\n",
            "4\n",
            "3\n",
            "2\n",
            "1\n",
            "\n",
            "Lift Off Begins!\n"
          ]
        }
      ],
      "source": [
        "count_down(10)"
      ]
    },
    {
      "cell_type": "markdown",
      "metadata": {
        "id": "lly0kyf_bIRr"
      },
      "source": [
        "### 4. Object-Orient Programming"
      ]
    },
    {
      "cell_type": "markdown",
      "metadata": {
        "id": "eLUsBVNcAkYL"
      },
      "source": [
        "**Adding step by step addition of new parts of a class to build a full class**"
      ]
    },
    {
      "cell_type": "code",
      "execution_count": null,
      "metadata": {
        "id": "O-kU0mXQbL26"
      },
      "outputs": [],
      "source": [
        "# Create a class\n",
        "class Rocket():\n",
        "  pass"
      ]
    },
    {
      "cell_type": "code",
      "execution_count": null,
      "metadata": {
        "id": "snAtYaf1_7WV"
      },
      "outputs": [],
      "source": [
        "# Building a Constructor that tells about the current location of Rocket\n",
        "class Rocket():\n",
        "    # Constructor --> What all goes in the Rocket class\n",
        "    def __init__(self):\n",
        "        # Each rocket has an (x,y) position.\n",
        "        self.x = 0\n",
        "        self.y = 0"
      ]
    },
    {
      "cell_type": "code",
      "execution_count": null,
      "metadata": {
        "id": "XXo0pdRrARvu"
      },
      "outputs": [],
      "source": [
        "# Adding a simple method that allows rocket to move up by one unit\n",
        "class Rocket():\n",
        "    # Constructor\n",
        "    def __init__(self):\n",
        "        # Each rocket has an (x,y) position.\n",
        "        # You can also call them as attributes --> they work like variables for this class Rocket\n",
        "        self.x = 0\n",
        "        self.y = 0\n",
        "\n",
        "    # Method to move up\n",
        "    def move_up(self):\n",
        "        # Increment the y-position of the rocket.\n",
        "        self.y += 1 # self.y = self.y + 1"
      ]
    },
    {
      "cell_type": "code",
      "execution_count": null,
      "metadata": {
        "colab": {
          "base_uri": "https://localhost:8080/"
        },
        "id": "kmE4emqXAxAC",
        "outputId": "2d598560-6b17-411c-915d-86bc6d222245"
      },
      "outputs": [
        {
          "name": "stdout",
          "output_type": "stream",
          "text": [
            "Rocket altitude: 0\n",
            "Rocket altitude: 1\n",
            "Rocket altitude: 2\n"
          ]
        }
      ],
      "source": [
        "# Create a Rocket object, and have it start to move up.\n",
        "my_rocket = Rocket()\n",
        "print(\"Rocket altitude:\", my_rocket.y)\n",
        "\n",
        "my_rocket.move_up()\n",
        "print(\"Rocket altitude:\", my_rocket.y)\n",
        "\n",
        "my_rocket.move_up()\n",
        "print(\"Rocket altitude:\", my_rocket.y)"
      ]
    },
    {
      "cell_type": "code",
      "execution_count": null,
      "metadata": {
        "id": "sDjRpQVTd8S4"
      },
      "outputs": [],
      "source": [
        "my_rockets = []\n",
        "for x in range(0,5):\n",
        "    new_rocket = Rocket()\n",
        "    my_rockets.append(new_rocket)"
      ]
    },
    {
      "cell_type": "code",
      "execution_count": null,
      "metadata": {
        "colab": {
          "base_uri": "https://localhost:8080/"
        },
        "id": "rh_YMZJzAjdY",
        "outputId": "55671089-206f-41d3-96d7-d0eb5a0d365f"
      },
      "outputs": [
        {
          "name": "stdout",
          "output_type": "stream",
          "text": [
            "Rocket 1 -->\n",
            "<__main__.Rocket object at 0x79cf69b4fd00>\n",
            "Moved up by 2 units\n",
            "\n",
            "Rocket 2 -->\n",
            "<__main__.Rocket object at 0x79cf69b4ee30>\n",
            "Moved up by 1 units\n",
            "\n",
            "Rocket 3 -->\n",
            "<__main__.Rocket object at 0x79cf69b4d5a0>\n",
            "Moved up by 0 units\n",
            "\n",
            "Rocket 4 -->\n",
            "<__main__.Rocket object at 0x79cf69b4d930>\n",
            "Moved up by 0 units\n",
            "\n",
            "Rocket 5 -->\n",
            "<__main__.Rocket object at 0x79cf69b4c940>\n",
            "Moved up by 0 units\n",
            "\n"
          ]
        }
      ],
      "source": [
        "# Create a fleet of 5 rockets, and store them in a list.\n",
        "my_rockets = []\n",
        "for x in range(0,5):\n",
        "    new_rocket = Rocket()\n",
        "    my_rockets.append(new_rocket)\n",
        "\n",
        "# Show that each rocket is a separate object and only first rocket moves up\n",
        "my_rockets[1].move_up()\n",
        "my_rockets[0].move_up()\n",
        "my_rockets[0].move_up()\n",
        "for idx, rocket in enumerate(my_rockets):\n",
        "    print(f'Rocket {idx+1} -->\\n{rocket}')\n",
        "    print(f'Moved up by {rocket.y} units')\n",
        "    print()"
      ]
    },
    {
      "cell_type": "code",
      "execution_count": null,
      "metadata": {
        "id": "4fKn6QPUByjj"
      },
      "outputs": [],
      "source": [
        "'''Adding more functionality to the Rocket'''\n",
        "class Rocket():\n",
        "    # Constructor Update\n",
        "    def __init__(self, x=0, y=0):\n",
        "        # Each rocket has an (x,y) position.\n",
        "        self.x = x\n",
        "        self.y = y\n",
        "    # Move method Update\n",
        "    def move_rocket(self, x_increment=0, y_increment=1):\n",
        "        # Move the rocket according to the paremeters given.\n",
        "        #  Default behavior is to move the rocket up one unit.\n",
        "        self.x += x_increment\n",
        "        self.y += y_increment"
      ]
    },
    {
      "cell_type": "code",
      "execution_count": null,
      "metadata": {
        "colab": {
          "base_uri": "https://localhost:8080/"
        },
        "id": "QnJNk-CRCdGS",
        "outputId": "e6b4f951-b15c-4488-d5c1-a93c4afed8b5"
      },
      "outputs": [
        {
          "name": "stdout",
          "output_type": "stream",
          "text": [
            "Rocket 1 is at (0, 1).\n",
            "Rocket 2 is at (10, 10).\n",
            "Rocket 3 is at (-10, 0).\n"
          ]
        }
      ],
      "source": [
        "# Create three rockets.\n",
        "rockets = [Rocket() for x in range(0,3)]\n",
        "\n",
        "# Move each rocket a different amount.\n",
        "rockets[0].move_rocket()\n",
        "rockets[1].move_rocket(10,10)\n",
        "rockets[2].move_rocket(-10,0)\n",
        "\n",
        "# Show where each rocket is.\n",
        "for index, rocket in enumerate(rockets):\n",
        "    print(\"Rocket %d is at (%d, %d).\" % (index+1, rocket.x, rocket.y))"
      ]
    },
    {
      "cell_type": "code",
      "execution_count": null,
      "metadata": {
        "id": "RVsqGhPGhNx0"
      },
      "outputs": [],
      "source": [
        "# shortest distance between two points (x1, y1), (x2, y2)\n",
        "\n",
        "#sqrt((x2-x1)**2 + (y2-y1)**2)\n",
        "\n",
        "\n",
        "\n",
        "''''\n",
        "              X\n",
        "              |\n",
        "              |\n",
        "X-------------\n",
        "'''"
      ]
    },
    {
      "cell_type": "code",
      "execution_count": null,
      "metadata": {
        "id": "0pbJyPXlCeIu"
      },
      "outputs": [],
      "source": [
        "'''Adding one more method'''\n",
        "from math import sqrt\n",
        "\n",
        "class Rocket():\n",
        "    # Rocket simulates a rocket ship for a game,\n",
        "    #  or a physics simulation.\n",
        "\n",
        "    def __init__(self, x=0, y=0):\n",
        "        # Each rocket has an (x,y) position.\n",
        "        self.x = x\n",
        "        self.y = y\n",
        "\n",
        "    def move_rocket(self, x_increment=0, y_increment=1):\n",
        "        # Move the rocket according to the paremeters given.\n",
        "        #  Default behavior is to move the rocket up one unit.\n",
        "        self.x += x_increment\n",
        "        self.y += y_increment\n",
        "\n",
        "    def get_distance(self, other_rocket):\n",
        "        # Calculates the distance from this rocket to another rocket,\n",
        "        #  and returns that value.\n",
        "        distance = sqrt((self.x-other_rocket.x)**2+(self.y-other_rocket.y)**2)\n",
        "        return distance"
      ]
    },
    {
      "cell_type": "code",
      "execution_count": null,
      "metadata": {
        "colab": {
          "base_uri": "https://localhost:8080/"
        },
        "id": "R2jjxbapDA_c",
        "outputId": "6161ab78-e237-44bb-d22b-c6b4fff98456"
      },
      "outputs": [
        {
          "name": "stdout",
          "output_type": "stream",
          "text": [
            "The rockets are 11.180339887498949 units apart.\n"
          ]
        }
      ],
      "source": [
        "# Make two rockets, at different places.\n",
        "rocket_0 = Rocket()\n",
        "rocket_1 = Rocket(10,5)\n",
        "\n",
        "# Show the distance between them.\n",
        "distance = rocket_0.get_distance(rocket_1)\n",
        "print(f\"The rockets are {distance} units apart.\")"
      ]
    },
    {
      "cell_type": "markdown",
      "metadata": {
        "id": "vjZv4s11bMU4"
      },
      "source": [
        "### 5. NumPy"
      ]
    },
    {
      "cell_type": "code",
      "execution_count": null,
      "metadata": {
        "id": "Ra5lz31GbODB"
      },
      "outputs": [],
      "source": [
        "# Importing the library\n",
        "import numpy as np"
      ]
    },
    {
      "cell_type": "code",
      "execution_count": null,
      "metadata": {
        "id": "4AmaERsUDQLP"
      },
      "outputs": [],
      "source": [
        "# Create an array\n",
        "my_array = np.array([[1,2,3,4], [5,6,7,8]], dtype=np.int64)\n",
        "\n",
        "# Print it out to see how it looks like\n",
        "print(my_array)"
      ]
    },
    {
      "cell_type": "code",
      "execution_count": null,
      "metadata": {
        "id": "OM3ZKekRE1x7"
      },
      "outputs": [],
      "source": [
        "'''Multiple ways of creating numpy arrays'''\n",
        "\n",
        "# Array of ones\n",
        "a = np.ones((3, 4))          # Creates an array full of 1s of size 3x4\n",
        "\n",
        "# Array of zeros\n",
        "b = np.zeros((2, 3, 4))      # Creates an array full of 0s of size 2x3x4\n",
        "\n",
        "# Array of random values\n",
        "c = np.random.random((2, 2)) # Creates an array of random values of size 2x2\n",
        "\n",
        "# Array of constant values\n",
        "d = np.full((2, 2), 7)       # Creates an array of constant values of size 2x2\n",
        "\n",
        "# Array of evenly spaced values\n",
        "e = np.arange(10, 25, 4)     # Creates an array starting from 10 (inclusive) till 25 (exclusive) after every 4 values\n",
        "\n",
        "# Array of equally spaced items\n",
        "f = np.linspace(10, 25, 4)   # Creates an array of 4 elements with equal spaces in between them including the last value!"
      ]
    },
    {
      "cell_type": "code",
      "execution_count": null,
      "metadata": {
        "id": "ktps8Sm9E3FA"
      },
      "outputs": [],
      "source": [
        "'''Print it all out'''\n",
        "for ele in [a, b, c, d, e, f]:\n",
        "  print(f\"{ele}\\n\\n----------------------------\\n\")"
      ]
    },
    {
      "cell_type": "code",
      "execution_count": null,
      "metadata": {
        "id": "H6QP2ZClE5jI"
      },
      "outputs": [],
      "source": [
        "'''For the above array a, print its dimensions, size and shape'''\n",
        "\n",
        "print(f\"Dimensions of array a = {a.ndim}\")  # Dimensions of the array\n",
        "print(f\"Size of array a = {a.size}\")        # Total elements inside the array\n",
        "print(f\"Shape of array a = {a.shape}\")      # Shape of array in the form of rows x cols"
      ]
    },
    {
      "cell_type": "code",
      "execution_count": null,
      "metadata": {
        "id": "yAhP4ew6FEsX"
      },
      "outputs": [],
      "source": [
        "# You can also reshape the arrays - reshape array a to 1x12\n",
        "a = a.reshape(1,12)\n",
        "print(a, a.shape)"
      ]
    },
    {
      "cell_type": "code",
      "execution_count": null,
      "metadata": {
        "id": "uxc8hEaMFLr-"
      },
      "outputs": [],
      "source": [
        "# Finding minimum, maximum, sum, and mean an array c\n",
        "print(f'Minimum value of y = {c.min()}')\n",
        "print(f'Maximum value of y = {c.max()}')\n",
        "print(f'Sum of y = {c.sum()}')\n",
        "print(f'Mean of y = {c.mean()}')"
      ]
    },
    {
      "cell_type": "markdown",
      "metadata": {
        "id": "8ioq5k7QJE9K"
      },
      "source": [
        "**Q)**\n",
        "- *Create a 2D array as shown below:-*       \n",
        "  [[1 2 3 4]          \n",
        " [5 6 7 8]]\n",
        "\n",
        "- *Create a 3D array of random integers using np.random.randint(min_val, max_val, size)*       \n",
        "  Use min val = 1, max val = 100, size = (5,2,4)\n",
        "\n",
        "- *print both the arrays*"
      ]
    },
    {
      "cell_type": "code",
      "execution_count": null,
      "metadata": {
        "id": "ygr-TjEOJRwr"
      },
      "outputs": [],
      "source": [
        "arr_2d = np.array([[1, 2, 3, 4],\n",
        "                   [5, 6, 7, 8]])\n",
        "\n",
        "'''Something new!!'''\n",
        "np.random.seed(42) # Seed generates same set of random numbers each time we run it as it will be used later in this notebook we want it to genrate same 3D array always when we run it\n",
        "\n",
        "arr_3d = np.random.randint(low=1, high=100, (5,2,4))\n",
        "\n",
        "print(f\"2D array:-\\n{arr_2d}\\n\\n3D array:-\\n{arr_3d}\")"
      ]
    },
    {
      "cell_type": "code",
      "execution_count": null,
      "metadata": {
        "id": "ApgtEW9FJUEE"
      },
      "outputs": [],
      "source": [
        "'''Remember indexing starts with 0 in python!'''\n",
        "\n",
        "# Select the element at row 1 column 2 from 2D array\n",
        "print(arr_2d[1][2])\n",
        "\n",
        "# Select the element at row 1 column 2 from 2D array\n",
        "print(arr_2d[1, 2])\n",
        "\n",
        "# Select the element at row 1, column 2 from the 0th bunch from 3D array\n",
        "print(arr_3d[0, 1, 2])"
      ]
    },
    {
      "cell_type": "code",
      "execution_count": null,
      "metadata": {
        "id": "jbBP_MDvJWYr"
      },
      "outputs": [],
      "source": [
        "# Let us now slice the 2D and 3D arrays\n",
        "\n",
        "'''\n",
        "Grab the following numbers from 2D array:-\n",
        "[[1 2]\n",
        "[5 6]]\n",
        "'''\n",
        "\n",
        "# That is in 0th row and 1st row we need first 2 cols\n",
        "arr_2d[:, :2] # arr[row, cols] ---> note that : means everyhting and :2 means everything before 2nd element, 2: everything from 2nd element till the end"
      ]
    },
    {
      "cell_type": "code",
      "execution_count": null,
      "metadata": {
        "id": "7cQs9HutJZQq"
      },
      "outputs": [],
      "source": [
        "'''\n",
        "Grab the following numbers from 3D array:-\n",
        "[[88 38]\n",
        "[64 21]]\n",
        "'''\n",
        "\n",
        "# From the 2nd bunch we need both the rows and alternate columns\n",
        "arr_3d[2, :, 0:4:2] # here we are using the start(inclusive):end(exclusive):skip notation to get the required output"
      ]
    },
    {
      "cell_type": "markdown",
      "metadata": {
        "id": "AZU379iIF3q2"
      },
      "source": [
        "## Very important concept of numpy ---> axis\n",
        "<img src = 'https://www.sharpsightlabs.com/wp-content/uploads/2018/12/numpy-arrays-have-axes_updated_v2.png' width = 55%>"
      ]
    },
    {
      "cell_type": "code",
      "execution_count": null,
      "metadata": {
        "id": "bx_HFKxCF45L"
      },
      "outputs": [],
      "source": [
        "'''\n",
        "Create the following array using numpy techniques:-\n",
        "[[10 20 30 40]\n",
        "[50 60 70 80]\n",
        "[90 100 110 120]]\n",
        "'''\n",
        "\n",
        "arr = np.arange(10, 121, 10).reshape(3, 4)\n",
        "print(arr)"
      ]
    },
    {
      "cell_type": "code",
      "execution_count": null,
      "metadata": {
        "id": "805Wv9LAItLC"
      },
      "outputs": [],
      "source": [
        "print(arr.sum(axis = 1)) # Sums up the rows\n",
        "print(arr.sum(axis = 0)) # Sums up the cols"
      ]
    },
    {
      "cell_type": "markdown",
      "metadata": {
        "id": "9GUWbV1ol4ln"
      },
      "source": [
        "### Practice Questions for you"
      ]
    },
    {
      "cell_type": "markdown",
      "metadata": {
        "id": "KjKyWEHY5iLT"
      },
      "source": [
        "#### **Q1) What is the output of the given Python code snippet when executed?**\n",
        "\n",
        "```\n",
        "odd_numbers = (1, 3, 5)\n",
        "even_numbers = (2, 4, 6)\n",
        "numbers = (*odd_numbers, *even_numbers)\n",
        "print(numbers)\n",
        "```\n",
        "\n",
        "Explain your logic by adding comments to every line!\n",
        "\n",
        "\n",
        "\n",
        "\n"
      ]
    },
    {
      "cell_type": "markdown",
      "metadata": {
        "id": "l1Ni3Gud5y1f"
      },
      "source": [
        "#### **Soln 1:-**"
      ]
    },
    {
      "cell_type": "code",
      "execution_count": null,
      "metadata": {
        "id": "J-73beGlykdU"
      },
      "outputs": [],
      "source": [
        "# Write your solution here\n",
        "\n",
        "\n",
        "\n"
      ]
    },
    {
      "cell_type": "code",
      "execution_count": null,
      "metadata": {
        "id": "gQPZVsUdl5Zc"
      },
      "outputs": [],
      "source": [
        "# Soln 1\n",
        "odd_numbers = (1, 3, 5)                    # Creates a tuple of odd numbers\n",
        "even_numbers = (2, 4, 6)                   # Creates a tuple of even numbers\n",
        "numbers = (*odd_numbers, *even_numbers)    # Unpacks the odd number and even numbers to create number tuple\n",
        "print(numbers)                             # Prints the output"
      ]
    },
    {
      "cell_type": "markdown",
      "metadata": {
        "id": "QysPFdQz6eMC"
      },
      "source": [
        "#### **Q2) Space Company Question**\n",
        "\n",
        "A space company is planning a series of rocket launches. Each rocket launch is represented by a positive integer, where the value represents the payload weight in kilograms. The company has a policy that a rocket can only be launched if its payload weight is less than or equal to a specified maximum limit.\n",
        "\n",
        "Write a recursive function **launch_rocket** that takes a list of payload weights and a maximum weight limit as parameters. The function should determine whether each rocket in the list can be launched or not based on the weight limit. The function should return a list of boolean values, where each value represents whether the corresponding rocket can be launched (True) or not (False).\n",
        "\n",
        "For example,\n",
        "```\n",
        "payload_weights = [1200, 800, 1500, 600, 1000]\n",
        "max_limit = 1000\n",
        "result = launch_rocket(payload_weights, max_limit)\n",
        "print(result)\n",
        "```\n",
        "\n",
        "Output should be,\n",
        "```\n",
        "[False, True, False, True, True]\n",
        "```"
      ]
    },
    {
      "cell_type": "code",
      "execution_count": null,
      "metadata": {
        "id": "-cqZi1qNyeU6"
      },
      "outputs": [],
      "source": [
        "# Write your solution here\n",
        "\n",
        "\n",
        "\n",
        "\n"
      ]
    },
    {
      "cell_type": "code",
      "execution_count": null,
      "metadata": {
        "id": "XwY1jF3O63Tt"
      },
      "outputs": [],
      "source": [
        "# Soln 2 - Shorter method using list comprehension\n",
        "def launch_rocket(payload_weights, max_limit):\n",
        "    '''\n",
        "    Argumetns ~\n",
        "    1) payload_weights - list of payload_weights\n",
        "    2) max_limit - float value indicating the maximum weight a rocket can have for a launch\n",
        "\n",
        "    Returns ~\n",
        "    1) list\n",
        "    '''\n",
        "\n",
        "    # <do this> <if this condition is true> <else do that> <for condition> --> List comprehension with if and else\n",
        "    return [True if weight <= max_limit else False for weight in payload_weights]"
      ]
    },
    {
      "cell_type": "code",
      "execution_count": null,
      "metadata": {
        "id": "Q42IQShnWyIi"
      },
      "outputs": [],
      "source": [
        "# Alternate approach - Long method using append\n",
        "def launch_rocket_alternative(payload_weights, max_limit):\n",
        "  '''\n",
        "  Argumetns ~\n",
        "  1) payload_weights - list of payload_weights\n",
        "  2) max_limit - float value indicating the maximum weight a rocket can have for a launch\n",
        "\n",
        "  Returns ~\n",
        "  1) list of True or False depending on if rocket should be launched\n",
        "  '''\n",
        "\n",
        "  # Create empty list to store the output of True or False\n",
        "  will_launch = []\n",
        "\n",
        "  # For every weight value in payload_weights list\n",
        "  for weight in payload_weights:\n",
        "    if weight <= max_limit:     # If the weight value is below or equal to max_limit\n",
        "      will_launch.append(True)  # Add True to will_launch list\n",
        "    else:                       # Else\n",
        "      will_launch.append(False) # Add False to will_launch list\n",
        "  return will_launch            # Return the full list after for loop is completed"
      ]
    },
    {
      "cell_type": "code",
      "execution_count": null,
      "metadata": {
        "colab": {
          "base_uri": "https://localhost:8080/"
        },
        "id": "2vBlT8NPWZuR",
        "outputId": "731d0669-63cb-4943-b5cb-8f6a6a9cad24"
      },
      "outputs": [
        {
          "data": {
            "text/plain": [
              "[False, True, False, True, True]"
            ]
          },
          "execution_count": 2,
          "metadata": {},
          "output_type": "execute_result"
        }
      ],
      "source": [
        "# Method 1 using list comprehension\n",
        "launch_rocket([1200, 800, 1500, 600, 1000], 1000)"
      ]
    },
    {
      "cell_type": "code",
      "execution_count": null,
      "metadata": {
        "colab": {
          "base_uri": "https://localhost:8080/"
        },
        "id": "zQ0ZgAPOXInb",
        "outputId": "59858f86-3420-47bd-88fe-2e8fd72a5823"
      },
      "outputs": [
        {
          "data": {
            "text/plain": [
              "[False, True, False, True, True]"
            ]
          },
          "execution_count": 7,
          "metadata": {},
          "output_type": "execute_result"
        }
      ],
      "source": [
        "# Method 2 - Using append\n",
        "launch_rocket_alternative([1200, 800, 1500, 600, 1000], 1000)"
      ]
    },
    {
      "cell_type": "markdown",
      "metadata": {
        "id": "GFSF5ywVXQA7"
      },
      "source": [
        "**Q3) Stellar Classificiation**\n",
        "\n",
        "In astronomy, stars are classified based on their spectral characteristics. The spectral type is often represented by a single letter (O, B, A, F, G, K, M), where O-type stars are the hottest, and M-type stars are the coolest.\n",
        "\n",
        "Write a Python function that classifies a star based on its temperature, given in Kelvin. The temperature ranges for each spectral type are as follows:\n",
        "\n",
        "* O:- $T \\geq 30,000 K$\n",
        "* B:- $10,000K \\leq T < 30,000K$\n",
        "* A:- $7,500K \\leq T < 10,000K$\n",
        "* F:- $6,000K \\leq T < 7,500K$\n",
        "* G:- $5,000K \\leq T < 6,000K$\n",
        "* K:- $3,500K \\leq T < 5,000K$\n",
        "* M:- $T < 3,500K$\n",
        "\n",
        "Your function should take the temperature as input and return the corresponding spectral type.\n",
        "\n",
        "This is what you have to run on the **classify_star()** function:-\n",
        "```\n",
        "temperature = 8000.0  # temperature in Kelvin\n",
        "spectral_type = classify_star(temperature)\n",
        "print(f\"The star is of spectral type:- {spectral_type}\")\n",
        "```"
      ]
    },
    {
      "cell_type": "code",
      "execution_count": null,
      "metadata": {
        "id": "zrXu4pCiyc9U"
      },
      "outputs": [],
      "source": [
        "# Write your solution here\n",
        "\n",
        "\n",
        "\n",
        "\n"
      ]
    },
    {
      "cell_type": "code",
      "execution_count": null,
      "metadata": {
        "id": "U5z4fvOM0csM"
      },
      "outputs": [],
      "source": [
        "# Soln 3\n",
        "def classify_star(temperature):\n",
        "    '''\n",
        "    Arguments ~\n",
        "    1) temperature - Value of star's temperature in Kelvin(float)\n",
        "\n",
        "    Returns ~\n",
        "    1) Spectral Type wrt to the input temperature\n",
        "    '''\n",
        "\n",
        "    # Define spectral_types dictionary with keys being spectra and values being range of temp values\n",
        "    spectral_types = {\n",
        "        'O': (30000, float('inf')), # float('inf') is one of the ways to indicate positive infinity\n",
        "        'B': (10000, 30000),\n",
        "        'A': (7500, 10000),\n",
        "        'F': (6000, 7500),\n",
        "        'G': (5000, 6000),\n",
        "        'K': (3500, 5000),\n",
        "        'M': (float('-inf'), 3500), # Similarly, float('-inf') is used to denote negative infinity\n",
        "    }\n",
        "\n",
        "    # Loop through dictionary items\n",
        "    for spectral_type, (lower, upper) in spectral_types.items(): # Value of dict is tuple, remember that!\n",
        "        if lower <= temperature < upper: # Condition for spectra\n",
        "            return spectral_type         # Return the spectral_type if condition is true"
      ]
    },
    {
      "cell_type": "code",
      "execution_count": null,
      "metadata": {
        "colab": {
          "base_uri": "https://localhost:8080/"
        },
        "id": "By0HyRaE2Oi2",
        "outputId": "09bbf135-e38d-48b1-97ce-2531d9320e17"
      },
      "outputs": [
        {
          "name": "stdout",
          "output_type": "stream",
          "text": [
            "The star is of spectral type:- A\n"
          ]
        }
      ],
      "source": [
        "temperature = 8000.0  # temperature in Kelvin\n",
        "spectral_type = classify_star(temperature)\n",
        "print(f\"The star is of spectral type:- {spectral_type}\")"
      ]
    },
    {
      "cell_type": "markdown",
      "metadata": {
        "id": "QAfwqb_J39s5"
      },
      "source": [
        "**Q4) Factorial Calculator**\n",
        "\n",
        "\n",
        "Write a recursive function **calculate_factorial** to calculate the factorial of a non-negative integer `n`.\n",
        "\n",
        "For example, 5 factorial is:-          \n",
        "```\n",
        "5! = 5 x 4 x 3 x 2 x 1 = 120\n",
        "```\n",
        "The function should return -1 in case of any non positive integer input"
      ]
    },
    {
      "cell_type": "code",
      "execution_count": null,
      "metadata": {
        "id": "ki6NRrA87bpv"
      },
      "outputs": [],
      "source": [
        "# Write your solution here\n",
        "\n",
        "\n",
        "\n"
      ]
    },
    {
      "cell_type": "code",
      "execution_count": null,
      "metadata": {
        "id": "bN5inuMl7fvI"
      },
      "outputs": [],
      "source": [
        "def factorial(num):\n",
        "  '''\n",
        "  Arguments ~\n",
        "  1) num - Positive integer\n",
        "\n",
        "  Returns ~\n",
        "  2) -1 if input is a non positive integer or returns factorial of the num\n",
        "  '''\n",
        "  '''\n",
        "  3 x 2 x 1\n",
        "  '''\n",
        "\n",
        "  # Base case\n",
        "  if num == 1 or num == 0:\n",
        "      return 1\n",
        "  # If num is a positive integer\n",
        "  elif num > 1 and isinstance(num, int): # isinstance(element, type) is used to check the data type of element\n",
        "      return num * factorial(num - 1)        # Recursion being used here\n",
        "  # If num is a non-positive integer\n",
        "  else:\n",
        "    return -1"
      ]
    },
    {
      "cell_type": "code",
      "execution_count": null,
      "metadata": {
        "colab": {
          "base_uri": "https://localhost:8080/"
        },
        "id": "Ts9-Fc2FCCLK",
        "outputId": "5a10cf24-93c6-4b32-8eb5-4b3dae16bf58"
      },
      "outputs": [
        {
          "data": {
            "text/plain": [
              "120"
            ]
          },
          "execution_count": 71,
          "metadata": {},
          "output_type": "execute_result"
        }
      ],
      "source": [
        "# Call the factorial of 5\n",
        "factorial(5)"
      ]
    },
    {
      "cell_type": "markdown",
      "metadata": {
        "id": "c9BvLZC0bg_r"
      },
      "source": [
        "---\n",
        "# <center> THE END"
      ]
    }
  ],
  "metadata": {
    "colab": {
      "provenance": []
    },
    "kernelspec": {
      "display_name": "Python 3",
      "name": "python3"
    },
    "language_info": {
      "name": "python"
    }
  },
  "nbformat": 4,
  "nbformat_minor": 0
}
