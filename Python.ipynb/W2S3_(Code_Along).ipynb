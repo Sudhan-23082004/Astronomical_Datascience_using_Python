{
  "cells": [
    {
      "cell_type": "markdown",
      "metadata": {
        "id": "PfvCpflCXbAU"
      },
      "source": [
        "# W2S3 | Python - III\n",
        "---"
      ]
    },
    {
      "cell_type": "markdown",
      "metadata": {
        "id": "C3g9oB5AXg-o"
      },
      "source": [
        "**In this Session:-**\n",
        "1. Control Flow\n",
        "2. Functions\n",
        "3. NumPy"
      ]
    },
    {
      "cell_type": "markdown",
      "metadata": {
        "id": "V71IABLlml4N"
      },
      "source": [
        "### Loop"
      ]
    },
    {
      "cell_type": "code",
      "execution_count": 1,
      "metadata": {
        "id": "9M7cnc2lXZv0"
      },
      "outputs": [],
      "source": [
        "# Range\n",
        "\n",
        "\n",
        "\n"
      ]
    },
    {
      "cell_type": "code",
      "execution_count": null,
      "metadata": {
        "id": "jvQewRNJlpuF"
      },
      "outputs": [],
      "source": [
        "# For loop with range to print numbers between 1 to 10\n",
        "\n",
        "\n"
      ]
    },
    {
      "cell_type": "code",
      "execution_count": null,
      "metadata": {
        "id": "Dh_0DPPNlyK6"
      },
      "outputs": [],
      "source": [
        "# While loop to print the numbers between 1 to 10\n",
        "\n"
      ]
    },
    {
      "cell_type": "code",
      "execution_count": 5,
      "metadata": {
        "id": "I_gM7h6Xl16v"
      },
      "outputs": [
        {
          "name": "stdout",
          "output_type": "stream",
          "text": [
            "Black Hole\n",
            "Exoplanets\n",
            "Neutron Star\n"
          ]
        }
      ],
      "source": [
        "# Looping through a List of celestial bodies and printing each element\n",
        "celestial_bodies = ['Black Hole', 'Exoplanets', 'Neutron Star']\n",
        "\n",
        "for body in celestial_bodies:\n",
        "    print(body)\n"
      ]
    },
    {
      "cell_type": "code",
      "execution_count": 7,
      "metadata": {
        "id": "PfG2EA5cl9cr"
      },
      "outputs": [
        {
          "name": "stdout",
          "output_type": "stream",
          "text": [
            "['BLACK HOLE', 'EXOPLANETS', 'NEUTRON STAR']\n"
          ]
        }
      ],
      "source": [
        "# Create a for loop that takes the celestial_bodies list and converts its elements to uppercase strings\n",
        "\n",
        "for i in range(len(celestial_bodies)):\n",
        "   celestial_bodies[i] = celestial_bodies[i].upper()\n",
        "\n",
        "print(celestial_bodies) \n"
      ]
    },
    {
      "cell_type": "code",
      "execution_count": 8,
      "metadata": {
        "id": "9gwKn0I1l_9v"
      },
      "outputs": [
        {
          "name": "stdout",
          "output_type": "stream",
          "text": [
            "['black hole', 'exoplanets', 'neutron star']\n"
          ]
        }
      ],
      "source": [
        "# Alternate way to deal with this problem would be using enumerate\n",
        "\n",
        "for i, body in enumerate(celestial_bodies):\n",
        "    celestial_bodies[i] = body.lower()\n",
        "print(celestial_bodies)"
      ]
    },
    {
      "cell_type": "code",
      "execution_count": 9,
      "metadata": {
        "id": "92wIBbJjmBxj"
      },
      "outputs": [
        {
          "name": "stdout",
          "output_type": "stream",
          "text": [
            "['black hole', 'exoplanets', 'neutron star']\n"
          ]
        }
      ],
      "source": [
        "# Try out yourself, whatshould be the code to convert the items of celestial_bodies to lowercase?\n",
        "\n",
        "\n",
        "# Alternate way to deal with this problem would be using enumerate\n",
        "\n",
        "for i, body in enumerate(celestial_bodies):\n",
        "    celestial_bodies[i] = body.lower()\n",
        "print(celestial_bodies)\n"
      ]
    },
    {
      "cell_type": "code",
      "execution_count": 12,
      "metadata": {
        "id": "rGblpvexmRzl"
      },
      "outputs": [
        {
          "name": "stdout",
          "output_type": "stream",
          "text": [
            "dict_items([('Mercury', 0), ('Venus', 0), ('Mars', 2), ('Earth', 1)])\n",
            "Mercury : 0\n",
            "Venus : 0\n",
            "Mars : 2\n",
            "Earth : 1\n"
          ]
        }
      ],
      "source": [
        "# Looping through tuple is similar to list, here is how you can loop through a dictionary\n",
        "inner_planet_moons = {'Mercury' : 0,\n",
        "                      'Venus' : 0,\n",
        "                      'Mars' : 2,\n",
        "                      'Earth' : 1}\n",
        "\n",
        "print(inner_planet_moons.items())\n",
        "\n",
        "for key, values in inner_planet_moons.items():\n",
        "    print(key,\":\", values)"
      ]
    },
    {
      "cell_type": "markdown",
      "metadata": {
        "id": "jst5kmKxmlJo"
      },
      "source": [
        "### Loop with Conditions"
      ]
    },
    {
      "cell_type": "code",
      "execution_count": 13,
      "metadata": {
        "id": "LqzlGMZopLCR"
      },
      "outputs": [
        {
          "name": "stdout",
          "output_type": "stream",
          "text": [
            "5 > 2\n"
          ]
        }
      ],
      "source": [
        "# Create two variables to compare using if-elif-else block\n",
        "a = 5\n",
        "b = 2\n",
        "\n",
        "# Check if a > b, a<b or a==b using\n",
        "if a > b:                # If this is true\n",
        "  print(f'{a} > {b}')    # Print this\n",
        "elif a < b:              # Else if the above condition is not true, this is true\n",
        "  print(f'{a} < {b}')    # Then print this\n",
        "else:                    # If none of the above conditions are true\n",
        "  print(f'{a} == {b}')   # Then print this"
      ]
    },
    {
      "cell_type": "code",
      "execution_count": 14,
      "metadata": {
        "id": "xesAEFppmpqZ"
      },
      "outputs": [
        {
          "name": "stdout",
          "output_type": "stream",
          "text": [
            "0\n",
            "1\n",
            "2\n",
            "3\n"
          ]
        }
      ],
      "source": [
        "# Guess the output of this code\n",
        "for index in range(0, 10):\n",
        "    print(index)\n",
        "    if index == 3:\n",
        "        break"
      ]
    },
    {
      "cell_type": "code",
      "execution_count": 16,
      "metadata": {
        "id": "2EmPkWfimtti"
      },
      "outputs": [
        {
          "name": "stdout",
          "output_type": "stream",
          "text": [
            "-- Help: type quit to exit --\n"
          ]
        },
        {
          "ename": "KeyboardInterrupt",
          "evalue": "Interrupted by user",
          "output_type": "error",
          "traceback": [
            "\u001b[1;31m---------------------------------------------------------------------------\u001b[0m",
            "\u001b[1;31mKeyboardInterrupt\u001b[0m                         Traceback (most recent call last)",
            "Cell \u001b[1;32mIn[16], line 6\u001b[0m\n\u001b[0;32m      4\u001b[0m \u001b[38;5;28;01mwhile\u001b[39;00m \u001b[38;5;28;01mTrue\u001b[39;00m:\n\u001b[0;32m      5\u001b[0m     ct\u001b[38;5;241m+\u001b[39m\u001b[38;5;241m=\u001b[39m\u001b[38;5;241m1\u001b[39m\n\u001b[1;32m----> 6\u001b[0m     color \u001b[38;5;241m=\u001b[39m \u001b[38;5;28minput\u001b[39m(\u001b[38;5;124mf\u001b[39m\u001b[38;5;124m'\u001b[39m\u001b[38;5;124mEnter your favorite celestial body \u001b[39m\u001b[38;5;132;01m{\u001b[39;00mct\u001b[38;5;132;01m}\u001b[39;00m\u001b[38;5;124m:- \u001b[39m\u001b[38;5;124m'\u001b[39m)\n\u001b[0;32m      7\u001b[0m     \u001b[38;5;66;03m# Can you think of an alternate way to terminate the while loop? (very similar)\u001b[39;00m\n\u001b[0;32m      8\u001b[0m     \u001b[38;5;28;01mif\u001b[39;00m color\u001b[38;5;241m.\u001b[39mlower() \u001b[38;5;241m==\u001b[39m \u001b[38;5;124m'\u001b[39m\u001b[38;5;124mquit\u001b[39m\u001b[38;5;124m'\u001b[39m:\n",
            "File \u001b[1;32mc:\\Users\\sudha\\anaconda3\\envs\\Geoprocessing\\Lib\\site-packages\\ipykernel\\kernelbase.py:1175\u001b[0m, in \u001b[0;36mKernel.raw_input\u001b[1;34m(self, prompt)\u001b[0m\n\u001b[0;32m   1171\u001b[0m \u001b[38;5;28;01mif\u001b[39;00m \u001b[38;5;129;01mnot\u001b[39;00m \u001b[38;5;28mself\u001b[39m\u001b[38;5;241m.\u001b[39m_allow_stdin:\n\u001b[0;32m   1172\u001b[0m     \u001b[38;5;28;01mraise\u001b[39;00m StdinNotImplementedError(\n\u001b[0;32m   1173\u001b[0m         \u001b[38;5;124m\"\u001b[39m\u001b[38;5;124mraw_input was called, but this frontend does not support input requests.\u001b[39m\u001b[38;5;124m\"\u001b[39m\n\u001b[0;32m   1174\u001b[0m     )\n\u001b[1;32m-> 1175\u001b[0m \u001b[38;5;28;01mreturn\u001b[39;00m \u001b[38;5;28mself\u001b[39m\u001b[38;5;241m.\u001b[39m_input_request(\n\u001b[0;32m   1176\u001b[0m     \u001b[38;5;28mstr\u001b[39m(prompt),\n\u001b[0;32m   1177\u001b[0m     \u001b[38;5;28mself\u001b[39m\u001b[38;5;241m.\u001b[39m_parent_ident[\u001b[38;5;124m\"\u001b[39m\u001b[38;5;124mshell\u001b[39m\u001b[38;5;124m\"\u001b[39m],\n\u001b[0;32m   1178\u001b[0m     \u001b[38;5;28mself\u001b[39m\u001b[38;5;241m.\u001b[39mget_parent(\u001b[38;5;124m\"\u001b[39m\u001b[38;5;124mshell\u001b[39m\u001b[38;5;124m\"\u001b[39m),\n\u001b[0;32m   1179\u001b[0m     password\u001b[38;5;241m=\u001b[39m\u001b[38;5;28;01mFalse\u001b[39;00m,\n\u001b[0;32m   1180\u001b[0m )\n",
            "File \u001b[1;32mc:\\Users\\sudha\\anaconda3\\envs\\Geoprocessing\\Lib\\site-packages\\ipykernel\\kernelbase.py:1217\u001b[0m, in \u001b[0;36mKernel._input_request\u001b[1;34m(self, prompt, ident, parent, password)\u001b[0m\n\u001b[0;32m   1214\u001b[0m             \u001b[38;5;28;01mbreak\u001b[39;00m\n\u001b[0;32m   1215\u001b[0m \u001b[38;5;28;01mexcept\u001b[39;00m \u001b[38;5;167;01mKeyboardInterrupt\u001b[39;00m:\n\u001b[0;32m   1216\u001b[0m     \u001b[38;5;66;03m# re-raise KeyboardInterrupt, to truncate traceback\u001b[39;00m\n\u001b[1;32m-> 1217\u001b[0m     \u001b[38;5;28;01mraise\u001b[39;00m \u001b[38;5;167;01mKeyboardInterrupt\u001b[39;00m(\u001b[38;5;124m\"\u001b[39m\u001b[38;5;124mInterrupted by user\u001b[39m\u001b[38;5;124m\"\u001b[39m) \u001b[38;5;28;01mfrom\u001b[39;00m \u001b[38;5;28;01mNone\u001b[39;00m\n\u001b[0;32m   1218\u001b[0m \u001b[38;5;28;01mexcept\u001b[39;00m \u001b[38;5;167;01mException\u001b[39;00m:\n\u001b[0;32m   1219\u001b[0m     \u001b[38;5;28mself\u001b[39m\u001b[38;5;241m.\u001b[39mlog\u001b[38;5;241m.\u001b[39mwarning(\u001b[38;5;124m\"\u001b[39m\u001b[38;5;124mInvalid Message:\u001b[39m\u001b[38;5;124m\"\u001b[39m, exc_info\u001b[38;5;241m=\u001b[39m\u001b[38;5;28;01mTrue\u001b[39;00m)\n",
            "\u001b[1;31mKeyboardInterrupt\u001b[0m: Interrupted by user"
          ]
        }
      ],
      "source": [
        "# Can you guess the output of this code?\n",
        "ct = 0\n",
        "print('-- Help: type quit to exit --')\n",
        "while True:\n",
        "    ct+=1\n",
        "    color = input(f'Enter your favorite celestial body {ct}:- ')\n",
        "    # Can you think of an alternate way to terminate the while loop? (very similar)\n",
        "    if color.lower() == 'quit':\n",
        "        break"
      ]
    },
    {
      "cell_type": "code",
      "execution_count": 25,
      "metadata": {
        "id": "ZtQG-BsdnPUq"
      },
      "outputs": [
        {
          "name": "stdout",
          "output_type": "stream",
          "text": [
            "Found one Gas Giant - Mercury. Mission accomplished!\n"
          ]
        }
      ],
      "source": [
        "# Create a tuple to store all the planets in our solar system\n",
        "planets = (\"Mercury\", \"Venus\", \"Earth\", \"Mars\", \"Jupiter\", \"Saturn\", \"Uranus\", \"Neptune\")\n",
        "\n",
        "# Your mission is to find if any gas giant is present in the planets tuple. If found even one, terminate the search\n",
        "gas_giants = ('Jupiter', 'Saturn', 'Uranus', 'Neptune')\n",
        "\n",
        "if any(planet.title() in gas_giants for planet in planets):\n",
        "  print(f'Found one Gas Giant - {planet.title()}. Mission accomplished!')\n",
        "else:\n",
        "  print('All the planets are explored. No Gas Giants found in the mission!')\n"
      ]
    },
    {
      "cell_type": "markdown",
      "metadata": {
        "id": "8KFv_e6bpRyb"
      },
      "source": [
        "### List Comprehension"
      ]
    },
    {
      "cell_type": "code",
      "execution_count": 26,
      "metadata": {
        "id": "cMNpc4UtpTRQ"
      },
      "outputs": [
        {
          "name": "stdout",
          "output_type": "stream",
          "text": [
            "[6, 7, 8, 9]\n"
          ]
        }
      ],
      "source": [
        "''' CODE WITHOUT LIST COMPREHENSION '''\n",
        "\n",
        "# Create a string\n",
        "str_var = '123456789'\n",
        "\n",
        "# Store charachter of this string as an integer element of a list called char_list if it is more than 5\n",
        "char_list = []\n",
        "\n",
        "for ch in str_var:\n",
        "  if int(ch) > 5:\n",
        "    char_list.append(int(ch))\n",
        "\n",
        "# Print the char_list\n",
        "print(char_list)"
      ]
    },
    {
      "cell_type": "code",
      "execution_count": 30,
      "metadata": {
        "id": "Fve46k2YpX6v"
      },
      "outputs": [
        {
          "name": "stdout",
          "output_type": "stream",
          "text": [
            "[6, 7, 8, 9]\n"
          ]
        }
      ],
      "source": [
        "''' CODE WITH LIST COMPREHENSION '''\n",
        "print([int(ch) for ch in str_var if int(ch) > 5])\n",
        "\n",
        "# list comprehension with if-else\n",
        "# [do this if this is true else do this for item in list]"
      ]
    },
    {
      "cell_type": "markdown",
      "metadata": {
        "id": "odnRzSIBpfNd"
      },
      "source": [
        "### Functions"
      ]
    },
    {
      "cell_type": "code",
      "execution_count": 34,
      "metadata": {
        "id": "FSvuv8mDpf3-"
      },
      "outputs": [],
      "source": [
        "# Create a function to greet everyone in the session\n",
        "\n",
        "def greet(name):\n",
        "    return f'Hello {name}!' \n",
        "\n"
      ]
    },
    {
      "cell_type": "code",
      "execution_count": 35,
      "metadata": {
        "id": "lA33s4ozpm6l"
      },
      "outputs": [
        {
          "data": {
            "text/plain": [
              "\"Hello ['Amit', 'Raj', 'Suresh', 'Ramesh']!\""
            ]
          },
          "execution_count": 35,
          "metadata": {},
          "output_type": "execute_result"
        }
      ],
      "source": [
        "# Call the function\n",
        "\n",
        "# Create a list of names\n",
        "names = ['Amit', 'Raj', 'Suresh', 'Ramesh']\n",
        "greet(names)\n"
      ]
    },
    {
      "cell_type": "code",
      "execution_count": 37,
      "metadata": {
        "id": "8625O0BnpoPC"
      },
      "outputs": [],
      "source": [
        "def greet_person(name, message):\n",
        "    return f\"Hello {name}! {message}\"\n",
        "\n",
        "\n"
      ]
    },
    {
      "cell_type": "code",
      "execution_count": 38,
      "metadata": {
        "id": "7Xt2Gddgpvgb"
      },
      "outputs": [
        {
          "data": {
            "text/plain": [
              "'Hello Rohan Shah! Welcome to week 2 of ADS'"
            ]
          },
          "execution_count": 38,
          "metadata": {},
          "output_type": "execute_result"
        }
      ],
      "source": [
        "# Call the function\n",
        "greet_person('Rohan Shah', 'Welcome to week 2 of ADS') # What will be the output\n",
        "#func_name('Welcome to week 2 of ADS', 'Rohan Shah') # What will be the output?"
      ]
    },
    {
      "cell_type": "code",
      "execution_count": null,
      "metadata": {
        "id": "CXVZSEKDqFAS"
      },
      "outputs": [],
      "source": [
        "# Default arguments while building a function\n",
        "def greet(name, msg = 'Hello'):\n",
        "  print(f'{msg}, {name.title()}!')"
      ]
    },
    {
      "cell_type": "code",
      "execution_count": null,
      "metadata": {
        "id": "Y7koeDQSqG-Q"
      },
      "outputs": [],
      "source": [
        "greet('Rohan')"
      ]
    },
    {
      "cell_type": "code",
      "execution_count": 39,
      "metadata": {
        "id": "eimWHlObqIeI"
      },
      "outputs": [
        {
          "name": "stdout",
          "output_type": "stream",
          "text": [
            "#greet(msg='Helluuuuuu', 'Rohan')\n"
          ]
        }
      ],
      "source": [
        "'''\n",
        "Find Imposter (error code) amongst this:-\n",
        "'''\n",
        "#greet('Rohan')\n",
        "#greet('Rohan', 'Hi')\n",
        "#greet(msg='Helluuuuuu', 'Rohan')\n",
        "#greet(msg='Heya', name='Rohan')\n",
        "#greet('Rohan', msg='Heeyyy')\n",
        "\n",
        "print(\"#greet(msg='Helluuuuuu', 'Rohan')\")"
      ]
    },
    {
      "cell_type": "markdown",
      "metadata": {
        "id": "MfW4w9Tfqjcg"
      },
      "source": [
        "### NumPy (Numerical Python Library)"
      ]
    },
    {
      "cell_type": "code",
      "execution_count": 40,
      "metadata": {
        "id": "lVGIMRUyqZ20"
      },
      "outputs": [],
      "source": [
        "# Import Library to use it\n",
        "import numpy as np"
      ]
    },
    {
      "cell_type": "code",
      "execution_count": 45,
      "metadata": {
        "id": "YiRhUyNoquHf"
      },
      "outputs": [
        {
          "data": {
            "text/plain": [
              "dtype('int8')"
            ]
          },
          "execution_count": 45,
          "metadata": {},
          "output_type": "execute_result"
        }
      ],
      "source": [
        "# Create an array of [[1,2,3,4], [5,6,7,8]] with 8-bit integer datatype\n",
        "a=np.array([[1.2,2,3,4], [5,6,7,8]], dtype=np.int8)\n",
        "\n",
        "a[0][0].dtype\n",
        "\n"
      ]
    },
    {
      "cell_type": "code",
      "execution_count": 53,
      "metadata": {
        "id": "fbrjwifmsA58"
      },
      "outputs": [],
      "source": [
        "'''Multiple ways of creating numpy arrays'''\n",
        "\n",
        "# Array of ones\n",
        "a = np.ones((3, 4))          # Creates an array full of 1s of size 3x4\n",
        "\n",
        "# Array of zeros\n",
        "b = np.zeros((2, 3, 4))      # Creates an array full of 0s of size 2x3x4\n",
        "\n",
        "# Array of random values\n",
        "c = np.random.random((2, 2)) # Creates an array of random values of size 2x2\n",
        "\n",
        "# Array of constant values\n",
        "d = np.full((2, 2), 7)       # Creates an array of constant values of size 2x2\n",
        "\n",
        "# Array of evenly spaced values\n",
        "e = np.arange(10, 25, 4)     # Creates an array starting from 10 (inclusive) till 25 (exclusive) after every 4 values\n",
        "\n",
        "# Array of equally spaced items\n",
        "f = np.linspace(10, 25, 4)   # Creates an array of 4 elements with equal spaces in between them including the last value!"
      ]
    },
    {
      "cell_type": "code",
      "execution_count": 47,
      "metadata": {
        "id": "NEyTsueOsKBd"
      },
      "outputs": [
        {
          "name": "stdout",
          "output_type": "stream",
          "text": [
            "[[1. 1. 1. 1.]\n",
            " [1. 1. 1. 1.]\n",
            " [1. 1. 1. 1.]]\n",
            "-----------------\n",
            "[[[0. 0. 0. 0.]\n",
            "  [0. 0. 0. 0.]\n",
            "  [0. 0. 0. 0.]]\n",
            "\n",
            " [[0. 0. 0. 0.]\n",
            "  [0. 0. 0. 0.]\n",
            "  [0. 0. 0. 0.]]]\n",
            "-----------------\n",
            "[[0.96763534 0.43736214]\n",
            " [0.39267384 0.85618791]]\n",
            "-----------------\n",
            "[[7 7]\n",
            " [7 7]]\n",
            "-----------------\n",
            "[10 14 18 22]\n",
            "-----------------\n",
            "[10. 15. 20. 25.]\n",
            "-----------------\n"
          ]
        }
      ],
      "source": [
        "# Print all the abcdef using a for loop\n",
        "for array in [a, b, c, d, e, f]:\n",
        "    print(array)\n",
        "    print('-----------------')\n",
        "\n"
      ]
    },
    {
      "cell_type": "code",
      "execution_count": 54,
      "metadata": {
        "id": "X2Z-1JbSsTC9"
      },
      "outputs": [
        {
          "name": "stdout",
          "output_type": "stream",
          "text": [
            "Dimensions of array a = 2\n",
            "Size of array a = 12\n",
            "Shape of array a = (3, 4)\n"
          ]
        }
      ],
      "source": [
        "'''For the above array a, print its dimensions, size and shape'''\n",
        "\n",
        "print(f\"Dimensions of array a = {a.ndim}\")  # Dimensions of the array\n",
        "print(f\"Size of array a = {a.size}\")        # Total elements inside the array\n",
        "print(f\"Shape of array a = {a.shape}\")      # Shape of array in the form of rows x cols"
      ]
    },
    {
      "cell_type": "code",
      "execution_count": 55,
      "metadata": {
        "id": "nSoutsUysq3s"
      },
      "outputs": [
        {
          "name": "stdout",
          "output_type": "stream",
          "text": [
            "[[1. 1. 1. 1. 1. 1. 1. 1. 1. 1. 1. 1.]] (1, 12)\n"
          ]
        }
      ],
      "source": [
        "# You can also reshape the arrays - reshape array a to 1x12\n",
        "a = a.reshape(1,12)\n",
        "print(a, a.shape)"
      ]
    },
    {
      "cell_type": "code",
      "execution_count": 56,
      "metadata": {
        "id": "nfBQTYEWssiF"
      },
      "outputs": [
        {
          "name": "stdout",
          "output_type": "stream",
          "text": [
            "Minimum value of y = 0.020169603354016963\n",
            "Maximum value of y = 0.63971670040035\n",
            "Sum of y = 1.4734539907416093\n",
            "Mean of y = 0.36836349768540233\n"
          ]
        }
      ],
      "source": [
        "# Finding minimum, maximum, sum, and mean an array c\n",
        "print(f'Minimum value of y = {c.min()}')\n",
        "print(f'Maximum value of y = {c.max()}')\n",
        "print(f'Sum of y = {c.sum()}')\n",
        "print(f'Mean of y = {c.mean()}')"
      ]
    },
    {
      "cell_type": "code",
      "execution_count": 57,
      "metadata": {
        "id": "3fph0JmSs5Zi"
      },
      "outputs": [
        {
          "name": "stdout",
          "output_type": "stream",
          "text": [
            "2D array:-\n",
            "[[1 2 3 4]\n",
            " [5 6 7 8]]\n",
            "\n",
            "3D array:-\n",
            "[[[52 93 15 72]\n",
            "  [61 21 83 87]]\n",
            "\n",
            " [[75 75 88 24]\n",
            "  [ 3 22 53  2]]\n",
            "\n",
            " [[88 30 38  2]\n",
            "  [64 60 21 33]]\n",
            "\n",
            " [[76 58 22 89]\n",
            "  [49 91 59 42]]\n",
            "\n",
            " [[92 60 80 15]\n",
            "  [62 62 47 62]]]\n"
          ]
        }
      ],
      "source": [
        "# Creating a 2D array\n",
        "arr_2d = np.array([[1, 2, 3, 4],\n",
        "                   [5, 6, 7, 8]])\n",
        "\n",
        "'''Something new!!'''\n",
        "np.random.seed(42) # Seed generates same set of random numbers each time we run it as it will be used later in this notebook we want it to genrate same 3D array always when we run it\n",
        "\n",
        "arr_3d = np.random.randint(low=1, high=100, size=(5,2,4))\n",
        "\n",
        "print(f\"2D array:-\\n{arr_2d}\\n\\n3D array:-\\n{arr_3d}\")"
      ]
    },
    {
      "cell_type": "code",
      "execution_count": 58,
      "metadata": {
        "id": "P66lA0Xds5Op"
      },
      "outputs": [
        {
          "name": "stdout",
          "output_type": "stream",
          "text": [
            "7\n",
            "7\n",
            "83\n"
          ]
        }
      ],
      "source": [
        "'''Remember indexing starts with 0 in python!'''\n",
        "\n",
        "# Select the element at row 1 column 2 from 2D array\n",
        "print(arr_2d[1][2])\n",
        "\n",
        "# Select the element at row 1 column 2 from 2D array\n",
        "print(arr_2d[1, 2])\n",
        "\n",
        "# Select the element at row 1, column 2 from the 0th bunch from 3D array\n",
        "print(arr_3d[0, 1, 2])"
      ]
    },
    {
      "cell_type": "code",
      "execution_count": 59,
      "metadata": {
        "id": "Mh36bWyttN_g"
      },
      "outputs": [
        {
          "name": "stdout",
          "output_type": "stream",
          "text": [
            "[[1 2 3 4]\n",
            " [5 6 7 8]]\n"
          ]
        }
      ],
      "source": [
        "print(arr_2d)"
      ]
    },
    {
      "cell_type": "code",
      "execution_count": 61,
      "metadata": {
        "id": "bMxGchMKtJHi"
      },
      "outputs": [
        {
          "name": "stdout",
          "output_type": "stream",
          "text": [
            "[[1 2]\n",
            " [5 6]]\n"
          ]
        }
      ],
      "source": [
        "'''\n",
        "Grab the following numbers from 2D array:-\n",
        "[[1 2]\n",
        "[5 6]]\n",
        "'''\n",
        "\n",
        "print(arr_2d[0:2,0:2])"
      ]
    },
    {
      "cell_type": "code",
      "execution_count": null,
      "metadata": {
        "id": "gsEvyMk5tTaN"
      },
      "outputs": [],
      "source": [
        "print(arr_3d)"
      ]
    },
    {
      "cell_type": "code",
      "execution_count": 66,
      "metadata": {
        "id": "xEbYXu45tPWO"
      },
      "outputs": [
        {
          "name": "stdout",
          "output_type": "stream",
          "text": [
            "[[88 38]\n",
            " [64 21]]\n"
          ]
        }
      ],
      "source": [
        "'''\n",
        "Grab the following numbers from 3D array:-\n",
        "[[88 38]\n",
        "[64 21]]\n",
        "'''\n",
        "print(arr_3d[2,:,0:3:2])"
      ]
    },
    {
      "cell_type": "markdown",
      "metadata": {
        "id": "_hcC22K9tZiR"
      },
      "source": [
        "#### Very important concept of numpy ---> axis\n",
        "<img src = 'https://www.sharpsightlabs.com/wp-content/uploads/2018/12/numpy-arrays-have-axes_updated_v2.png' width = 55%>"
      ]
    },
    {
      "cell_type": "code",
      "execution_count": null,
      "metadata": {
        "id": "JO35hX2ttVrE"
      },
      "outputs": [],
      "source": [
        "'''\n",
        "Create the following array using numpy techniques:-\n",
        "[[10 20 30 40] #100\n",
        "[50 60 70 80]   #200\n",
        "[90 100 110 120]]  #300\n",
        "'''\n",
        "#150 #180 #210 #240\n",
        "\n",
        "arr ="
      ]
    },
    {
      "cell_type": "code",
      "execution_count": null,
      "metadata": {
        "id": "ihZY3znutgup"
      },
      "outputs": [],
      "source": [
        "print(arr.sum(axis = 1)) # Sums up the rows\n",
        "print(arr.sum(axis = 0)) # Sums up the cols"
      ]
    },
    {
      "cell_type": "code",
      "execution_count": 68,
      "metadata": {
        "id": "oyqCXUXruRmo"
      },
      "outputs": [
        {
          "data": {
            "text/plain": [
              "array([[113, 114,  98, 159],\n",
              "       [ 78,  97, 141,  26],\n",
              "       [152,  90,  59,  35],\n",
              "       [125, 149,  81, 131],\n",
              "       [154, 122, 127,  77]])"
            ]
          },
          "execution_count": 68,
          "metadata": {},
          "output_type": "execute_result"
        }
      ],
      "source": [
        "arr_3d.sum(axis=1)"
      ]
    }
  ],
  "metadata": {
    "colab": {
      "provenance": []
    },
    "kernelspec": {
      "display_name": "Python 3",
      "name": "python3"
    },
    "language_info": {
      "codemirror_mode": {
        "name": "ipython",
        "version": 3
      },
      "file_extension": ".py",
      "mimetype": "text/x-python",
      "name": "python",
      "nbconvert_exporter": "python",
      "pygments_lexer": "ipython3",
      "version": "3.11.4"
    }
  },
  "nbformat": 4,
  "nbformat_minor": 0
}
