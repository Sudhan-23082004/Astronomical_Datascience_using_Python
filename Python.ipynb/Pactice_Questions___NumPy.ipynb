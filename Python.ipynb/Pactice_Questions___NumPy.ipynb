{
  "cells": [
    {
      "cell_type": "markdown",
      "metadata": {
        "id": "H5cmGOxzrfv4"
      },
      "source": [
        "### Practice Questions on NumPy "
      ]
    },
    {
      "cell_type": "code",
      "execution_count": null,
      "metadata": {
        "id": "3TGbfZa8sewE"
      },
      "outputs": [],
      "source": [
        "import numpy as np"
      ]
    },
    {
      "cell_type": "markdown",
      "metadata": {
        "id": "FXzMVhUzrkkR"
      },
      "source": [
        "**Q1)**\n",
        "\n",
        "Given the list of absolute magnitudes of the stars, calculate its mean and standard deviation using NumPy.\n",
        "\n",
        "```\n",
        "abs_mag = [-11.2, 10.3, 1.1, 8.9, -2, 6.3]\n",
        "```"
      ]
    },
    {
      "cell_type": "code",
      "execution_count": null,
      "metadata": {
        "id": "uVeA9tdwrW38"
      },
      "outputs": [],
      "source": [
        "# Given list of abs_mag\n",
        "abs_mag = [-11.2, 10.3, 1.1, 8.9, -2, 6.3]\n",
        "\n",
        "# Create array from the list\n",
        "\n",
        "\n",
        "# Print mean and std of the array\n",
        "print()\n",
        "print()"
      ]
    },
    {
      "cell_type": "code",
      "execution_count": null,
      "metadata": {
        "colab": {
          "base_uri": "https://localhost:8080/"
        },
        "id": "GYcT38iDsLIW",
        "outputId": "2ff3b49c-7d5e-4a9d-e6dc-b1a5b09bbf8d"
      },
      "outputs": [
        {
          "name": "stdout",
          "output_type": "stream",
          "text": [
            "Mean of abs_mag:- 2.233\n",
            "Standard Deviation of abs_mag:- 7.368\n"
          ]
        }
      ],
      "source": [
        "# Soln\n",
        "\n",
        "# Given list\n",
        "abs_mag = [-11.2, 10.3, 1.1, 8.9, -2, 6.3]\n",
        "\n",
        "# Create array of abs_mag_arr from abs_mag list\n",
        "abs_mag_arr = np.array(abs_mag)\n",
        "\n",
        "# Print mean and std correct to 3dp for the abs_mag_arr\n",
        "print(f'Mean of abs_mag:- {round(abs_mag_arr.mean(), 3)}')\n",
        "print(f'Standard Deviation of abs_mag:- {round(abs_mag_arr.std(),3)}')"
      ]
    },
    {
      "cell_type": "markdown",
      "metadata": {
        "id": "H_C2L8YctEAr"
      },
      "source": [
        "**Q2)**      \n",
        "\n",
        "1. Create random array of integers between 1 and 10 (both inclusive) of size (3, 3).\n",
        "2. Set a seed value of 42 before creating random array.\n",
        "3. Reshape this array into 1D array of 9 elements.\n",
        "4. Print the dimensions of the reshaped array. It should be 1."
      ]
    },
    {
      "cell_type": "code",
      "execution_count": null,
      "metadata": {
        "id": "_WblInMstZ3_"
      },
      "outputs": [],
      "source": [
        "# Write your solution here\n",
        "\n",
        "\n",
        "\n"
      ]
    },
    {
      "cell_type": "code",
      "execution_count": null,
      "metadata": {
        "colab": {
          "base_uri": "https://localhost:8080/"
        },
        "id": "NQ8ntS6dtcbY",
        "outputId": "fd771b63-19bd-489a-fb6d-d9984de058ab"
      },
      "outputs": [
        {
          "name": "stdout",
          "output_type": "stream",
          "text": [
            "Random Integers between 1 to 10 Array of Shape 3x3:- \n",
            "[[ 6  3 10]\n",
            " [ 7  4  6]\n",
            " [ 9  2  6]]\n",
            "\n",
            "Reshaped array into 1D:-\n",
            "[ 6  3 10  7  4  6  9  2  6]\n",
            "\n",
            "There are 1 dimensions in the reshaped_output array!\n"
          ]
        }
      ],
      "source": [
        "# Soln\n",
        "\n",
        "# Setting seed value of 42 to initiate same randomness for everyone\n",
        "np.random.seed(42)\n",
        "\n",
        "# Create array of random integers between 1 to 10 (inclusive) of shape 3x3\n",
        "rand_int_arr = np.random.randint(low=0, high=11, size=(3,3))\n",
        "print('Random Integers between 1 to 10 Array of Shape 3x3:- ')\n",
        "print(rand_int_arr)\n",
        "\n",
        "# Reshape it into 1D array of size 9\n",
        "print()\n",
        "reshaped_output = rand_int_arr.reshape(9)\n",
        "print('Reshaped array into 1D:-')\n",
        "print(reshaped_output)\n",
        "print(f'\\nThere are {reshaped_output.ndim} dimensions in the reshaped_output array!')"
      ]
    },
    {
      "cell_type": "markdown",
      "metadata": {
        "id": "RjuN9Om-unA9"
      },
      "source": [
        "**Q3)**\n",
        "\n",
        "1. Create any 2D array using `np.arange` of shape `3x3`.\n",
        "2. Create one more 2D array using `np.full` of shape `3x4` using value of 2.\n",
        "3. Perform matrix multiplication on these arrays using `@` operator."
      ]
    },
    {
      "cell_type": "code",
      "execution_count": null,
      "metadata": {
        "id": "glcFuKu3vDiN"
      },
      "outputs": [],
      "source": [
        "# Create a 2D array of your choice using np.arange of shape 3x3\n",
        "\n",
        "\n",
        "# Create a 2D array using np.full with all values to be 2 of shape 3x4\n",
        "\n",
        "\n",
        "# Perform matrix multiplication using @ operator\n",
        "\n",
        "\n"
      ]
    },
    {
      "cell_type": "code",
      "execution_count": null,
      "metadata": {
        "colab": {
          "base_uri": "https://localhost:8080/"
        },
        "id": "T0Z2Jjk5vRin",
        "outputId": "7abac149-45cf-4034-8dab-bd378b126216"
      },
      "outputs": [
        {
          "name": "stdout",
          "output_type": "stream",
          "text": [
            "[[1 2 3]\n",
            " [4 5 6]\n",
            " [7 8 9]]\n"
          ]
        }
      ],
      "source": [
        "# Soln\n",
        "\n",
        "# 2D array using np.arange of shape 3x3\n",
        "arr_2d = np.arange(start=1,stop=10).reshape(3,3)\n",
        "print(arr_2d)"
      ]
    },
    {
      "cell_type": "code",
      "execution_count": null,
      "metadata": {
        "colab": {
          "base_uri": "https://localhost:8080/"
        },
        "id": "isLvZl7avaGY",
        "outputId": "da62cd54-2e83-4c18-ffbb-6e2eb7b92390"
      },
      "outputs": [
        {
          "name": "stdout",
          "output_type": "stream",
          "text": [
            "[[2 2 2 2]\n",
            " [2 2 2 2]\n",
            " [2 2 2 2]]\n"
          ]
        }
      ],
      "source": [
        "# 2D array using np.full of shape 3x4 with values 2\n",
        "another_arr_2d = np.full(shape=(3,4), fill_value=2)\n",
        "print(another_arr_2d)"
      ]
    },
    {
      "cell_type": "code",
      "execution_count": null,
      "metadata": {
        "colab": {
          "base_uri": "https://localhost:8080/"
        },
        "id": "6mtfd1Vrwchf",
        "outputId": "16fec3ee-643c-4a9d-e722-e0c2a75591ef"
      },
      "outputs": [
        {
          "name": "stdout",
          "output_type": "stream",
          "text": [
            "Matrix Multiplication of\n",
            "[[1 2 3]\n",
            " [4 5 6]\n",
            " [7 8 9]]\n",
            "\n",
            "and\n",
            "[[2 2 2 2]\n",
            " [2 2 2 2]\n",
            " [2 2 2 2]]\n",
            "\n",
            "is:-\n",
            "[[12 12 12 12]\n",
            " [30 30 30 30]\n",
            " [48 48 48 48]]\n"
          ]
        }
      ],
      "source": [
        "# Matrix multiplication (3x3) @ (3x4) ---> (3x4)\n",
        "matrix_multiplication_output = arr_2d@another_arr_2d\n",
        "print(f'Matrix Multiplication of\\n{arr_2d}\\n\\nand\\n{another_arr_2d}\\n\\nis:-\\n{matrix_multiplication_output}')"
      ]
    },
    {
      "cell_type": "code",
      "execution_count": null,
      "metadata": {
        "id": "mAOrWhBVxOif"
      },
      "outputs": [],
      "source": [
        "'''\n",
        "As expected:-\n",
        "First Row in Output = 2*1 + 2*2 + 2*3 = 12\n",
        "Second Row in Output = 2*4 + 2*5 + 2*6 = 30\n",
        "Similarly, the third row!\n",
        "'''"
      ]
    },
    {
      "cell_type": "markdown",
      "metadata": {
        "id": "Yrd9mX6mxhTC"
      },
      "source": [
        "**Q4)**\n",
        "\n",
        "Create elementwise multiplication for the first 2D array created in Q3 of shape 3x3 with the 2D array of random integers of shape 3x3 in Q2. You can achieve this with `*` operator."
      ]
    },
    {
      "cell_type": "code",
      "execution_count": null,
      "metadata": {
        "colab": {
          "base_uri": "https://localhost:8080/"
        },
        "id": "8f18aGk7x1g-",
        "outputId": "ba5d90f2-c62a-4281-a134-3405a1590acc"
      },
      "outputs": [
        {
          "name": "stdout",
          "output_type": "stream",
          "text": [
            "Elementwise Multiplication of\n",
            "[[1 2 3]\n",
            " [4 5 6]\n",
            " [7 8 9]]\n",
            "\n",
            "with\n",
            "[[ 6  3 10]\n",
            " [ 7  4  6]\n",
            " [ 9  2  6]]\n",
            "\n",
            "is:-\n",
            "[[ 6  6 30]\n",
            " [28 20 36]\n",
            " [63 16 54]]\n"
          ]
        }
      ],
      "source": [
        "element_wise_multiplication = arr_2d * rand_int_arr\n",
        "print(f'Elementwise Multiplication of\\n{arr_2d}\\n\\nwith\\n{rand_int_arr}\\n\\nis:-\\n{element_wise_multiplication}')"
      ]
    },
    {
      "cell_type": "code",
      "execution_count": null,
      "metadata": {
        "id": "o4dMEEluyKsc"
      },
      "outputs": [],
      "source": [
        "'''\n",
        "Here, the elements are mapped onto each other and then performs multiplication.\n",
        "Hence, on index (0,0) we have 1x6 = 6\n",
        "On index, (1,1) we have 5x4 = 20\n",
        "So on and so forth!\n",
        "'''"
      ]
    }
  ],
  "metadata": {
    "colab": {
      "provenance": []
    },
    "kernelspec": {
      "display_name": "Python 3",
      "name": "python3"
    },
    "language_info": {
      "name": "python"
    }
  },
  "nbformat": 4,
  "nbformat_minor": 0
}
