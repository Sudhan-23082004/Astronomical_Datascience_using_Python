{
  "cells": [
    {
      "cell_type": "markdown",
      "metadata": {
        "id": "lSAiBqPFmC3_"
      },
      "source": [
        "# <center> W3S2 | Object - Oriented Programming "
      ]
    },
    {
      "cell_type": "markdown",
      "metadata": {
        "id": "C6RusP88mC4i"
      },
      "source": [
        "<a name='oop_terminology'></a>Object-Oriented terminology\n",
        "==="
      ]
    },
    {
      "cell_type": "markdown",
      "metadata": {
        "id": "8xti07kTmC4i"
      },
      "source": [
        "Classes are part of a programming paradigm called **object-oriented programming**. Object-oriented programming, or OOP for short, focuses on building reusable blocks of code called classes. When you want to use a class in one of your programs, you make an **object** from that class, which is where the phrase \"object-oriented\" comes from. Python itself is not tied to object-oriented programming, but you will be using objects in most or all of your Python projects. In order to understand classes, you have to understand some of the language that is used in OOP."
      ]
    },
    {
      "cell_type": "markdown",
      "metadata": {
        "id": "EH7cLsWdmC4i"
      },
      "source": [
        "<a name='general_terminology'></a>General terminology\n",
        "---"
      ]
    },
    {
      "cell_type": "markdown",
      "metadata": {
        "id": "-emxiMsdmC4i"
      },
      "source": [
        "A **class** is a body of code that defines the **attributes** and **behaviors** required to accurately model something you need for your program. You can model something from the real world, such as a rocket ship or a guitar string, or you can model something from a virtual world such as a rocket in a game, or a set of physical laws for a game engine."
      ]
    },
    {
      "cell_type": "markdown",
      "metadata": {
        "id": "QO1n_vxjmC4j"
      },
      "source": [
        "An **attribute** is a piece of information. In code, an attribute is just a variable that is part of a class."
      ]
    },
    {
      "cell_type": "markdown",
      "metadata": {
        "id": "qOgUasCRmC4j"
      },
      "source": [
        "A **behavior** is an action that is defined within a class. These are made up of **methods**, which are just functions that are defined for the class."
      ]
    },
    {
      "cell_type": "markdown",
      "metadata": {
        "id": "KiK7HIAjmC4j"
      },
      "source": [
        "An **object** is a particular instance of a class. An object has a certain set of values for all of the attributes (variables) in the class. You can have as many objects as you want for any one class."
      ]
    },
    {
      "cell_type": "markdown",
      "metadata": {
        "id": "pGynZQ3umC4k"
      },
      "source": [
        "<a name='closer_look'></a>A closer look at the Rocket class\n",
        "---\n",
        "Now that you have seen a simple example of a class, and have learned some basic OOP terminology, it will be helpful to take a closer look at the Rocket class."
      ]
    },
    {
      "cell_type": "markdown",
      "metadata": {
        "id": "0EiK_8czmC4l"
      },
      "source": [
        "<a name=\"init_method\"></a>The \\_\\_init()\\_\\_ method\n",
        "---\n",
        "Here is the initial code block that defined the Rocket class:"
      ]
    },
    {
      "cell_type": "code",
      "execution_count": null,
      "metadata": {
        "id": "3n_-HAbjmC4l"
      },
      "outputs": [],
      "source": [
        "class Rocket():\n",
        "    # Rocket simulates a rocket ship for a game,\n",
        "    #  or a physics simulation.\n",
        "\n",
        "    # Constructor\n",
        "    def __init__(self):\n",
        "        # Each rocket has an (x,y) position.\n",
        "        self.x = 0\n",
        "        self.y = 0"
      ]
    },
    {
      "cell_type": "markdown",
      "metadata": {
        "id": "Wj3rg57omC4m"
      },
      "source": [
        "Function names that start and end with two underscores are special built-in functions that Python uses in certain ways. The \\_\\_init()\\_\\_ method is one of these special functions. It is called automatically when you create an object from your class. The \\_\\_init()\\_\\_ method lets you make sure that all relevant attributes are set to their proper values when an object is created from the class, before the object is used. In this case, The \\_\\_init\\_\\_() method initializes the x and y values of the Rocket to 0."
      ]
    },
    {
      "cell_type": "markdown",
      "metadata": {
        "id": "y83mwsYJmC4m"
      },
      "source": [
        "The word \"self\" refers to the current object that you are working with. When you are writing a class, it lets you refer to certain attributes from any other part of the class. Basically, all methods in a class need the *self* object as their first argument, so they can access any attribute that is part of the class."
      ]
    },
    {
      "cell_type": "markdown",
      "metadata": {
        "id": "FlxxFTozmC4m"
      },
      "source": [
        "<a name='simple_method'></a>A simple method\n",
        "---\n",
        "Here is the method that was defined for the Rocket class:"
      ]
    },
    {
      "cell_type": "code",
      "execution_count": null,
      "metadata": {
        "id": "tM-FSl8imC4n"
      },
      "outputs": [],
      "source": [
        "class Rocket():\n",
        "    # Rocket simulates a rocket ship for a game,\n",
        "    #  or a physics simulation.\n",
        "\n",
        "    def __init__(self):\n",
        "        # Each rocket has an (x,y) position.\n",
        "        self.x = 0\n",
        "        self.y = 0\n",
        "\n",
        "    # Method - 1\n",
        "    def move_up(self):\n",
        "        # Increment the y-position of the rocket.\n",
        "        self.y += 1"
      ]
    },
    {
      "cell_type": "markdown",
      "metadata": {
        "id": "0iDGOnnamC4n"
      },
      "source": [
        "A method is just a function that is part of a class. Since it is just a function, you can do anything with a method that you learned about with functions."
      ]
    },
    {
      "cell_type": "markdown",
      "metadata": {
        "id": "hGHSL2dRmC4n"
      },
      "source": [
        "Each method has to accept one argument by default, the value **self**. This is a reference to the particular object that is calling the method. This *self* argument gives you access to the calling object's attributes. In this example, the self argument is used to access a Rocket object's y-value. That value is increased by 1, every time the method move_up() is called by a particular Rocket object. This is probably still somewhat confusing, but it should start to make sense as you work through your own examples."
      ]
    },
    {
      "cell_type": "markdown",
      "metadata": {
        "id": "H-pnZcb7mC4n"
      },
      "source": [
        "If you take a second look at what happens when a method is called, things might make a little more sense:"
      ]
    },
    {
      "cell_type": "code",
      "execution_count": null,
      "metadata": {
        "colab": {
          "base_uri": "https://localhost:8080/"
        },
        "id": "3YQ07F2MmC4n",
        "outputId": "9be3a687-a303-4990-f421-7a785a2475b5"
      },
      "outputs": [
        {
          "name": "stdout",
          "output_type": "stream",
          "text": [
            "Rocket altitude: 0\n",
            "Rocket altitude: 1\n",
            "Rocket altitude: 2\n"
          ]
        }
      ],
      "source": [
        "class Rocket():\n",
        "    # Rocket simulates a rocket ship for a game,\n",
        "    #  or a physics simulation.\n",
        "\n",
        "    def __init__(self):\n",
        "        # Each rocket has an (x,y) position.\n",
        "        self.x = 0\n",
        "        self.y = 0\n",
        "\n",
        "    def move_up(self):\n",
        "        # Increment the y-position of the rocket.\n",
        "        self.y += 1\n",
        "\n",
        "# Create a Rocket object, and have it start to move up.\n",
        "my_rocket = Rocket()\n",
        "print(\"Rocket altitude:\", my_rocket.y)\n",
        "\n",
        "my_rocket.move_up()\n",
        "print(\"Rocket altitude:\", my_rocket.y)\n",
        "\n",
        "my_rocket.move_up()\n",
        "print(\"Rocket altitude:\", my_rocket.y)"
      ]
    },
    {
      "cell_type": "markdown",
      "metadata": {
        "id": "8Px3vbmVmC4o"
      },
      "source": [
        "In this example, a Rocket object is created and stored in the variable my_rocket. After this object is created, its y value is printed. The value of the attribute *y* is accessed using dot notation. The phrase *my\\_rocket.y* asks Python to return \"the value of the variable y attached to the object my_rocket\".\n",
        "\n",
        "After the object my_rocket is created and its initial y-value is printed, the method move_up() is called. This tells Python to apply the method move_up() to the object my_rocket. Python finds the y-value associated with my_rocket and adds 1 to that value. This process is repeated several times, and you can see from the output that the y-value is in fact increasing."
      ]
    },
    {
      "cell_type": "markdown",
      "metadata": {
        "id": "8MlCLQuNmC4o"
      },
      "source": [
        "<a name='multiple_objects'></a>Making multiple objects from a class\n",
        "---"
      ]
    },
    {
      "cell_type": "markdown",
      "metadata": {
        "id": "DBnLTqpGmC4o"
      },
      "source": [
        "One of the goals of object-oriented programming is to create reusable code. Once you have written the code for a class, you can create as many objects from that class as you need. Classes are usually saved in a separate file, and then imported into the program you are working on. So you can build a library of classes, and use those classes over and over again in different programs. Once you know a class works well, you can leave it alone and know that the objects you create in a new program are going to work as they always have."
      ]
    },
    {
      "cell_type": "markdown",
      "metadata": {
        "id": "DrM7bw0NmC4o"
      },
      "source": [
        "You can see this \"code reusability\" already when the Rocket class is used to make more than one Rocket object."
      ]
    },
    {
      "cell_type": "code",
      "execution_count": null,
      "metadata": {
        "colab": {
          "base_uri": "https://localhost:8080/"
        },
        "id": "EeJm-9YimC4o",
        "outputId": "a5d9749f-8e77-4137-d619-8768913e8ba7"
      },
      "outputs": [
        {
          "name": "stdout",
          "output_type": "stream",
          "text": [
            "<__main__.Rocket object at 0x7c3dc01b7a60>\n",
            "<__main__.Rocket object at 0x7c3dc0204580>\n",
            "<__main__.Rocket object at 0x7c3dc02045e0>\n",
            "<__main__.Rocket object at 0x7c3dc0204640>\n",
            "<__main__.Rocket object at 0x7c3dc02046a0>\n"
          ]
        }
      ],
      "source": [
        "class Rocket():\n",
        "    # Rocket simulates a rocket ship for a game,\n",
        "    #  or a physics simulation.\n",
        "\n",
        "    def __init__(self):\n",
        "        # Each rocket has an (x,y) position.\n",
        "        self.x = 0\n",
        "        self.y = 0\n",
        "\n",
        "    def move_up(self):\n",
        "        # Increment the y-position of the rocket.\n",
        "        self.y += 1\n",
        "\n",
        "# Create a fleet of 5 rockets, and store them in a list.\n",
        "my_rockets = []\n",
        "for x in range(0,5):\n",
        "    new_rocket = Rocket()\n",
        "    my_rockets.append(new_rocket)\n",
        "\n",
        "# Show that each rocket is a separate object.\n",
        "for rocket in my_rockets:\n",
        "    print(rocket)"
      ]
    },
    {
      "cell_type": "code",
      "execution_count": null,
      "metadata": {
        "id": "WMr21SVdZ1Bu"
      },
      "outputs": [],
      "source": [
        "my_rockets[0].move_up()"
      ]
    },
    {
      "cell_type": "code",
      "execution_count": null,
      "metadata": {
        "colab": {
          "base_uri": "https://localhost:8080/"
        },
        "id": "XPIaox7gaBNi",
        "outputId": "20dbc320-f6d7-43fd-f33d-8eddd7990954"
      },
      "outputs": [
        {
          "data": {
            "text/plain": [
              "1"
            ]
          },
          "execution_count": 3,
          "metadata": {},
          "output_type": "execute_result"
        }
      ],
      "source": [
        "my_rockets[0].y"
      ]
    },
    {
      "cell_type": "code",
      "execution_count": null,
      "metadata": {
        "colab": {
          "base_uri": "https://localhost:8080/"
        },
        "id": "GtspglBfaEfr",
        "outputId": "3b1dfa19-7617-4fd2-95a0-747f0e875927"
      },
      "outputs": [
        {
          "data": {
            "text/plain": [
              "0"
            ]
          },
          "execution_count": 4,
          "metadata": {},
          "output_type": "execute_result"
        }
      ],
      "source": [
        "my_rockets[1].y"
      ]
    },
    {
      "cell_type": "code",
      "execution_count": null,
      "metadata": {
        "colab": {
          "base_uri": "https://localhost:8080/"
        },
        "id": "cG4C9wB0aN8U",
        "outputId": "86f10ef8-6eb6-4432-9f9e-1b9ae79be681"
      },
      "outputs": [
        {
          "data": {
            "text/plain": [
              "0"
            ]
          },
          "execution_count": 6,
          "metadata": {},
          "output_type": "execute_result"
        }
      ],
      "source": [
        "my_rockets[4].y"
      ]
    },
    {
      "cell_type": "code",
      "execution_count": null,
      "metadata": {
        "id": "x8ry7HohaY5O"
      },
      "outputs": [],
      "source": [
        "my_rockets[0].move_up()"
      ]
    },
    {
      "cell_type": "code",
      "execution_count": null,
      "metadata": {
        "colab": {
          "base_uri": "https://localhost:8080/"
        },
        "id": "wOpdwE_7acMi",
        "outputId": "fb4b93b0-4f67-4ece-c8c1-19e7e13cd111"
      },
      "outputs": [
        {
          "data": {
            "text/plain": [
              "2"
            ]
          },
          "execution_count": 8,
          "metadata": {},
          "output_type": "execute_result"
        }
      ],
      "source": [
        "my_rockets[0].y"
      ]
    },
    {
      "cell_type": "markdown",
      "metadata": {
        "id": "Gmb_JI1LmC4q"
      },
      "source": [
        "<a name='refining_rocket'></a>Refining the Rocket class\n",
        "===\n",
        "The Rocket class so far is very simple. It can be made a little more interesting with some refinements to the \\_\\_init\\_\\_() method, and by the addition of some methods."
      ]
    },
    {
      "cell_type": "markdown",
      "metadata": {
        "id": "7D7kgwrRmC4r"
      },
      "source": [
        "<a name='init_parameters'></a>Accepting paremeters for the \\_\\_init\\_\\_() method\n",
        "---\n",
        "The \\_\\_init\\_\\_() method is run automatically one time when you create a new object from a class. The \\_\\_init\\_\\_() method for the Rocket class so far is pretty simple:"
      ]
    },
    {
      "cell_type": "code",
      "execution_count": null,
      "metadata": {
        "id": "jmn4SUccmC4r"
      },
      "outputs": [],
      "source": [
        "class Rocket():\n",
        "    # Rocket simulates a rocket ship for a game,\n",
        "    #  or a physics simulation.\n",
        "\n",
        "    def __init__(self):\n",
        "        # Each rocket has an (x,y) position.\n",
        "        self.x = 0\n",
        "        self.y = 0\n",
        "\n",
        "    def move_up(self):\n",
        "        # Increment the y-position of the rocket.\n",
        "        self.y += 1"
      ]
    },
    {
      "cell_type": "markdown",
      "metadata": {
        "id": "lxLmXQRHmC4r"
      },
      "source": [
        "All the \\_\\_init\\_\\_() method does so far is set the x and y values for the rocket to 0. We can easily add a couple keyword arguments so that new rockets can be initialized at any position:"
      ]
    },
    {
      "cell_type": "code",
      "execution_count": null,
      "metadata": {
        "id": "mGi8Xi8omC4r"
      },
      "outputs": [],
      "source": [
        "class Rocket():\n",
        "    # Rocket simulates a rocket ship for a game,\n",
        "    #  or a physics simulation.\n",
        "\n",
        "    def __init__(self, x=0, y=0):\n",
        "        # Each rocket has an (x,y) position.\n",
        "        self.x = x\n",
        "        self.y = y\n",
        "\n",
        "    def move_up(self):\n",
        "        # Increment the y-position of the rocket.\n",
        "        self.y += 1"
      ]
    },
    {
      "cell_type": "markdown",
      "metadata": {
        "id": "YHVeR4CzmC4r"
      },
      "source": [
        "Now when you create a new Rocket object you have the choice of passing in arbitrary initial values for x and y:"
      ]
    },
    {
      "cell_type": "code",
      "execution_count": null,
      "metadata": {
        "colab": {
          "base_uri": "https://localhost:8080/"
        },
        "id": "N7-MLGJUmC4r",
        "outputId": "bc24725c-1269-4e42-bac9-d084322a9180"
      },
      "outputs": [
        {
          "name": "stdout",
          "output_type": "stream",
          "text": [
            "Rocket 0 is at (0, 0).\n",
            "Rocket 1 is at (0, 10).\n",
            "Rocket 2 is at (100, 0).\n"
          ]
        }
      ],
      "source": [
        "class Rocket():\n",
        "    # Rocket simulates a rocket ship for a game,\n",
        "    #  or a physics simulation.\n",
        "\n",
        "    def __init__(self, x=0, y=0):\n",
        "        # Each rocket has an (x,y) position.\n",
        "        self.x = x\n",
        "        self.y = y\n",
        "\n",
        "    def move_up(self):\n",
        "        # Increment the y-position of the rocket.\n",
        "        self.y += 1\n",
        "\n",
        "# Make a series of rockets at different starting places.\n",
        "rockets = []\n",
        "rockets.append(Rocket())\n",
        "rockets.append(Rocket(0,10))\n",
        "rockets.append(Rocket(100,0))\n",
        "\n",
        "# Show where each rocket is.\n",
        "for index, rocket in enumerate(rockets):\n",
        "    print(\"Rocket %d is at (%d, %d).\" % (index, rocket.x, rocket.y))"
      ]
    },
    {
      "cell_type": "markdown",
      "metadata": {
        "id": "1uhXA0EtmC4s"
      },
      "source": [
        "<a name='method_parameters'></a>Accepting paremeters in a method\n",
        "---\n",
        "The \\_\\_init\\_\\_ method is just a special method that serves a particular purpose, which is to help create new objects from a class. Any method in a class can accept parameters of any kind. With this in mind, the move_up() method can be made much more flexible. By accepting keyword arguments, the move_up() method can be rewritten as a more general move_rocket() method."
      ]
    },
    {
      "cell_type": "markdown",
      "metadata": {
        "id": "2qZ2M9PxmC4s"
      },
      "source": [
        "This new method will allow the rocket to be moved any amount, in any direction:"
      ]
    },
    {
      "cell_type": "code",
      "execution_count": null,
      "metadata": {
        "id": "PRpOFkV4mC4s"
      },
      "outputs": [],
      "source": [
        "class Rocket():\n",
        "    # Rocket simulates a rocket ship for a game,\n",
        "    #  or a physics simulation.\n",
        "\n",
        "    def __init__(self, x=0, y=0):\n",
        "        # Each rocket has an (x,y) position.\n",
        "        self.x = x\n",
        "        self.y = y\n",
        "\n",
        "    def move_rocket(self, x_increment=0, y_increment=1):\n",
        "        # Move the rocket according to the paremeters given.\n",
        "        #  Default behavior is to move the rocket up one unit.\n",
        "        self.x += x_increment\n",
        "        self.y += y_increment"
      ]
    },
    {
      "cell_type": "markdown",
      "metadata": {
        "id": "EhqakoqDmC4t"
      },
      "source": [
        "The paremeters for the move() method are named x_increment and y_increment rather than x and y. It's good to emphasize that these are changes in the x and y position, not new values for the actual position of the rocket. By carefully choosing the right default values, we can define a meaningful default behavior. If someone calls the method move_rocket() with no parameters, the rocket will simply move up one unit in the y-direciton. Note that this method can be given negative values to move the rocket left or right:"
      ]
    },
    {
      "cell_type": "code",
      "execution_count": null,
      "metadata": {
        "colab": {
          "base_uri": "https://localhost:8080/"
        },
        "id": "5dD9kSjRmC4t",
        "outputId": "041bdc00-4c6b-4f8a-c8c2-a24d15da432f"
      },
      "outputs": [
        {
          "name": "stdout",
          "output_type": "stream",
          "text": [
            "Rocket 0 is at (0, 1).\n",
            "Rocket 1 is at (10, 10).\n",
            "Rocket 2 is at (-10, 0).\n"
          ]
        }
      ],
      "source": [
        "class Rocket():\n",
        "    # Rocket simulates a rocket ship for a game,\n",
        "    #  or a physics simulation.\n",
        "\n",
        "    def __init__(self, x=0, y=0):\n",
        "        # Each rocket has an (x,y) position.\n",
        "        self.x = x\n",
        "        self.y = y\n",
        "\n",
        "    def move_rocket(self, x_increment=0, y_increment=1):\n",
        "        # Move the rocket according to the paremeters given.\n",
        "        #  Default behavior is to move the rocket up one unit.\n",
        "        self.x += x_increment\n",
        "        self.y += y_increment\n",
        "\n",
        "# Create three rockets.\n",
        "rockets = [Rocket() for x in range(0,3)]\n",
        "\n",
        "# Move each rocket a different amount.\n",
        "rockets[0].move_rocket()\n",
        "rockets[1].move_rocket(10,10)\n",
        "rockets[2].move_rocket(-10,0)\n",
        "\n",
        "# Show where each rocket is.\n",
        "for index, rocket in enumerate(rockets):\n",
        "    print(\"Rocket %d is at (%d, %d).\" % (index, rocket.x, rocket.y))"
      ]
    },
    {
      "cell_type": "markdown",
      "metadata": {
        "id": "B82WJfk6mC4t"
      },
      "source": [
        "<a name='adding_method'></a>Adding a new method\n",
        "---\n",
        "One of the strengths of object-oriented programming is the ability to closely model real-world phenomena by adding appropriate attributes and behaviors to classes. One of the jobs of a team piloting a rocket is to make sure the rocket does not get too close to any other rockets. Let's add a method that will report the distance from one rocket to any other rocket.\n",
        "\n",
        "If you are not familiar with distance calculations, there is a fairly simple formula to tell the distance between two points if you know the x and y values of each point."
      ]
    },
    {
      "cell_type": "markdown",
      "metadata": {
        "id": "5DxinqWxmC4t"
      },
      "source": [
        "This new method performs that calculation, and then returns the resulting distance."
      ]
    },
    {
      "cell_type": "code",
      "execution_count": null,
      "metadata": {
        "colab": {
          "base_uri": "https://localhost:8080/"
        },
        "id": "2-j_G1NqmC4t",
        "outputId": "b0a1c253-9be2-4b6f-ad18-89a308744676"
      },
      "outputs": [
        {
          "name": "stdout",
          "output_type": "stream",
          "text": [
            "The rockets are 11.180340 units apart.\n"
          ]
        }
      ],
      "source": [
        "from math import sqrt\n",
        "\n",
        "class Rocket():\n",
        "    # Rocket simulates a rocket ship for a game,\n",
        "    #  or a physics simulation.\n",
        "\n",
        "    def __init__(self, x=0, y=0):\n",
        "        # Each rocket has an (x,y) position.\n",
        "        self.x = x\n",
        "        self.y = y\n",
        "\n",
        "    def move_rocket(self, x_increment=0, y_increment=1):\n",
        "        # Move the rocket according to the paremeters given.\n",
        "        #  Default behavior is to move the rocket up one unit.\n",
        "        self.x += x_increment\n",
        "        self.y += y_increment\n",
        "\n",
        "    def get_distance(self, other_rocket):\n",
        "        # Calculates the distance from this rocket to another rocket,\n",
        "        #  and returns that value.\n",
        "        # sqrt[(x1 - x2)^2 + (y1 - y2)^2]\n",
        "        distance = sqrt((self.x-other_rocket.x)**2+(self.y-other_rocket.y)**2)\n",
        "        return distance\n",
        "\n",
        "# Make two rockets, at different places.\n",
        "rocket_0 = Rocket()\n",
        "rocket_1 = Rocket(10,5)\n",
        "\n",
        "# Show the distance between them.\n",
        "distance = rocket_0.get_distance(rocket_1)\n",
        "print(\"The rockets are %f units apart.\" % distance)"
      ]
    },
    {
      "cell_type": "markdown",
      "metadata": {
        "id": "MmVvRJIymC4u"
      },
      "source": [
        "Hopefully these short refinements show that you can extend a class' attributes and behavior to model the phenomena you are interested in as closely as you want. The rocket could have a name, a crew capacity, a payload, a certain amount of fuel, and any number of other attributes. You could define any behavior you want for the rocket, including interactions with other rockets and launch facilities, gravitational fields, and whatever you need it to! There are techniques for managing these more complex interactions, but what you have just seen is the core of object-oriented programming."
      ]
    }
  ],
  "metadata": {
    "colab": {
      "collapsed_sections": [
        "pGynZQ3umC4k",
        "FlxxFTozmC4m"
      ],
      "provenance": []
    },
    "kernelspec": {
      "display_name": "Python 3",
      "language": "python",
      "name": "python3"
    },
    "language_info": {
      "codemirror_mode": {
        "name": "ipython",
        "version": 3
      },
      "file_extension": ".py",
      "mimetype": "text/x-python",
      "name": "python",
      "nbconvert_exporter": "python",
      "pygments_lexer": "ipython3",
      "version": "3.5.1"
    }
  },
  "nbformat": 4,
  "nbformat_minor": 0
}
